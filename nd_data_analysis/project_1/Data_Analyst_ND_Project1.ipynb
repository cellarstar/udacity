{
 "cells": [
  {
   "cell_type": "markdown",
   "metadata": {},
   "source": [
    "# Data Analyst Nanodegree Project 1\n",
    "## Test a Perceptual Phenomenon"
   ]
  },
  {
   "cell_type": "markdown",
   "metadata": {},
   "source": [
    "## Background\n",
    "\n",
    "In a Stroop task, participants are presented with a list of words, with each word displayed in a color of ink. The participant’s task is to say out loud the color of the ink in which the word is printed. The task has two conditions: a congruent words condition, and an incongruent words condition. In the congruent words condition, the words being displayed are color words whose names match the colors in which they are printed: for example RED, BLUE. In the incongruent words condition, the words displayed are color words whose names do not match the colors in which they are printed: for example PURPLE, ORANGE. In each case, we measure the time it takes to name the ink colors in equally-sized lists. Each participant will go through and record a time from each condition."
   ]
  },
  {
   "cell_type": "markdown",
   "metadata": {},
   "source": [
    "First let's get the data of the Stroop experiment ready to perform necessary analysis."
   ]
  },
  {
   "cell_type": "code",
   "execution_count": 1,
   "metadata": {
    "collapsed": false
   },
   "outputs": [
    {
     "data": {
      "text/html": [
       "<div>\n",
       "<table border=\"1\" class=\"dataframe\">\n",
       "  <thead>\n",
       "    <tr style=\"text-align: right;\">\n",
       "      <th></th>\n",
       "      <th>Congruent (C)</th>\n",
       "      <th>Incongruent (IC)</th>\n",
       "    </tr>\n",
       "  </thead>\n",
       "  <tbody>\n",
       "    <tr>\n",
       "      <th>0</th>\n",
       "      <td>12.079</td>\n",
       "      <td>19.278</td>\n",
       "    </tr>\n",
       "    <tr>\n",
       "      <th>1</th>\n",
       "      <td>16.791</td>\n",
       "      <td>18.741</td>\n",
       "    </tr>\n",
       "    <tr>\n",
       "      <th>2</th>\n",
       "      <td>9.564</td>\n",
       "      <td>21.214</td>\n",
       "    </tr>\n",
       "    <tr>\n",
       "      <th>3</th>\n",
       "      <td>8.630</td>\n",
       "      <td>15.687</td>\n",
       "    </tr>\n",
       "    <tr>\n",
       "      <th>4</th>\n",
       "      <td>14.669</td>\n",
       "      <td>22.803</td>\n",
       "    </tr>\n",
       "    <tr>\n",
       "      <th>5</th>\n",
       "      <td>12.238</td>\n",
       "      <td>20.878</td>\n",
       "    </tr>\n",
       "    <tr>\n",
       "      <th>6</th>\n",
       "      <td>14.692</td>\n",
       "      <td>24.572</td>\n",
       "    </tr>\n",
       "    <tr>\n",
       "      <th>7</th>\n",
       "      <td>8.987</td>\n",
       "      <td>17.394</td>\n",
       "    </tr>\n",
       "    <tr>\n",
       "      <th>8</th>\n",
       "      <td>9.401</td>\n",
       "      <td>20.762</td>\n",
       "    </tr>\n",
       "    <tr>\n",
       "      <th>9</th>\n",
       "      <td>14.480</td>\n",
       "      <td>26.282</td>\n",
       "    </tr>\n",
       "    <tr>\n",
       "      <th>10</th>\n",
       "      <td>22.328</td>\n",
       "      <td>24.524</td>\n",
       "    </tr>\n",
       "    <tr>\n",
       "      <th>11</th>\n",
       "      <td>15.298</td>\n",
       "      <td>18.644</td>\n",
       "    </tr>\n",
       "    <tr>\n",
       "      <th>12</th>\n",
       "      <td>15.073</td>\n",
       "      <td>17.510</td>\n",
       "    </tr>\n",
       "    <tr>\n",
       "      <th>13</th>\n",
       "      <td>16.929</td>\n",
       "      <td>20.330</td>\n",
       "    </tr>\n",
       "    <tr>\n",
       "      <th>14</th>\n",
       "      <td>18.200</td>\n",
       "      <td>35.255</td>\n",
       "    </tr>\n",
       "    <tr>\n",
       "      <th>15</th>\n",
       "      <td>12.130</td>\n",
       "      <td>22.158</td>\n",
       "    </tr>\n",
       "    <tr>\n",
       "      <th>16</th>\n",
       "      <td>18.495</td>\n",
       "      <td>25.139</td>\n",
       "    </tr>\n",
       "    <tr>\n",
       "      <th>17</th>\n",
       "      <td>10.639</td>\n",
       "      <td>20.429</td>\n",
       "    </tr>\n",
       "    <tr>\n",
       "      <th>18</th>\n",
       "      <td>11.344</td>\n",
       "      <td>17.425</td>\n",
       "    </tr>\n",
       "    <tr>\n",
       "      <th>19</th>\n",
       "      <td>12.369</td>\n",
       "      <td>34.288</td>\n",
       "    </tr>\n",
       "    <tr>\n",
       "      <th>20</th>\n",
       "      <td>12.944</td>\n",
       "      <td>23.894</td>\n",
       "    </tr>\n",
       "    <tr>\n",
       "      <th>21</th>\n",
       "      <td>14.233</td>\n",
       "      <td>17.960</td>\n",
       "    </tr>\n",
       "    <tr>\n",
       "      <th>22</th>\n",
       "      <td>19.710</td>\n",
       "      <td>22.058</td>\n",
       "    </tr>\n",
       "    <tr>\n",
       "      <th>23</th>\n",
       "      <td>16.004</td>\n",
       "      <td>21.157</td>\n",
       "    </tr>\n",
       "  </tbody>\n",
       "</table>\n",
       "</div>"
      ],
      "text/plain": [
       "    Congruent (C)  Incongruent (IC)\n",
       "0          12.079            19.278\n",
       "1          16.791            18.741\n",
       "2           9.564            21.214\n",
       "3           8.630            15.687\n",
       "4          14.669            22.803\n",
       "5          12.238            20.878\n",
       "6          14.692            24.572\n",
       "7           8.987            17.394\n",
       "8           9.401            20.762\n",
       "9          14.480            26.282\n",
       "10         22.328            24.524\n",
       "11         15.298            18.644\n",
       "12         15.073            17.510\n",
       "13         16.929            20.330\n",
       "14         18.200            35.255\n",
       "15         12.130            22.158\n",
       "16         18.495            25.139\n",
       "17         10.639            20.429\n",
       "18         11.344            17.425\n",
       "19         12.369            34.288\n",
       "20         12.944            23.894\n",
       "21         14.233            17.960\n",
       "22         19.710            22.058\n",
       "23         16.004            21.157"
      ]
     },
     "execution_count": 1,
     "metadata": {},
     "output_type": "execute_result"
    }
   ],
   "source": [
    "import pandas as pd\n",
    "import numpy as np\n",
    "import math\n",
    "import matplotlib.pyplot as plt\n",
    "%matplotlib inline\n",
    "\n",
    "# path to data\n",
    "path = r'C:\\Users\\105056796\\Box Sync\\Udacity\\Data Science\\Projects\\Project 1 - Stroop Effect/stroopdata.csv'\n",
    "# raw data set\n",
    "dataFrame = pd.read_csv(path)\n",
    "\n",
    "# show complete data frame\n",
    "dataFrame"
   ]
  },
  {
   "cell_type": "markdown",
   "metadata": {},
   "source": [
    "## Question 1: Identify variables in the experiment\n",
    "\n",
    "__Operational Definition__:\n",
    "Time (in seconds) needed to go through a list of words and say out loud the color of the ink in which each word is printed.\n",
    "\n",
    "__Independent Variable:__\n",
    "The color used to print the name of a color.\n",
    "\n",
    "__Dependent Variable:__\n",
    "Time to name the color provided by the printed word, not the printed color.\n"
   ]
  },
  {
   "cell_type": "markdown",
   "metadata": {},
   "source": [
    "## Question 2: Establish a hypothesis and statistical test\n",
    "Let's start off with establishing the hypotheses. Once that is done we choose an appropriate statistical method to test the hypotheses.\n",
    "\n",
    "###Hypotheses\n",
    "\n",
    "#####Null Hypothesis (H0)\n",
    "The results (based on the operational definition) of the experiment with the __Incongruent Word Condition (IWC)__ are not significantly different from the results of the experiment with the __Congruent Word Condition (CWC)__.\n",
    "\n",
    "H<sub>0</sub>: &mu;<sub>C</sub> = &mu;<sub>IC</sub>\n",
    "\n",
    "where &mu;<sub>C</sub> represents the population mean respective to the _CWC_ results and &mu;<sub>IC</sub> the population mean of the _IWC_ results.\n",
    "\n",
    "#####Alternative Hypothesis (HA)\n",
    "The results of the experiment with the _IWC_ are significantly different from the results of the experiment with the _CWC_.\n",
    "\n",
    "H<sub>A</sub>: &mu;<sub>C</sub> &ne; &mu;<sub>IC</sub>\n",
    "\n",
    "###Statistical Test\n",
    "Given the circumstances, a __dependent t-test for paired samples__ is chosen to test the hypothesis. \n",
    "\n",
    "Reasons for picking the t-test are \n",
    "__(1)__ that the sample size is 24, which is less than 30,\n",
    "__(2)__ that the polulation standard deviation is not known, \n",
    "__(3)__ that a normal distribution is assumed,\n",
    "__(4)__ that the samples are dependent as the same subject takes the test twice (once with the _CWC_ and once with the _IWC_) and \n",
    "__(5)__ that there is paired sample data avaialable from the experiments.\n"
   ]
  },
  {
   "cell_type": "markdown",
   "metadata": {},
   "source": [
    "## Question 3: Report descriptive statistics"
   ]
  },
  {
   "cell_type": "code",
   "execution_count": 2,
   "metadata": {
    "collapsed": false,
    "scrolled": true
   },
   "outputs": [
    {
     "data": {
      "text/html": [
       "<div>\n",
       "<table border=\"1\" class=\"dataframe\">\n",
       "  <thead>\n",
       "    <tr style=\"text-align: right;\">\n",
       "      <th></th>\n",
       "      <th>Congruent (C)</th>\n",
       "      <th>Incongruent (IC)</th>\n",
       "    </tr>\n",
       "  </thead>\n",
       "  <tbody>\n",
       "    <tr>\n",
       "      <th>count</th>\n",
       "      <td>24.000000</td>\n",
       "      <td>24.000000</td>\n",
       "    </tr>\n",
       "    <tr>\n",
       "      <th>mean</th>\n",
       "      <td>14.051125</td>\n",
       "      <td>22.015917</td>\n",
       "    </tr>\n",
       "    <tr>\n",
       "      <th>std</th>\n",
       "      <td>3.559358</td>\n",
       "      <td>4.797057</td>\n",
       "    </tr>\n",
       "    <tr>\n",
       "      <th>min</th>\n",
       "      <td>8.630000</td>\n",
       "      <td>15.687000</td>\n",
       "    </tr>\n",
       "    <tr>\n",
       "      <th>25%</th>\n",
       "      <td>11.895250</td>\n",
       "      <td>18.716750</td>\n",
       "    </tr>\n",
       "    <tr>\n",
       "      <th>50%</th>\n",
       "      <td>14.356500</td>\n",
       "      <td>21.017500</td>\n",
       "    </tr>\n",
       "    <tr>\n",
       "      <th>75%</th>\n",
       "      <td>16.200750</td>\n",
       "      <td>24.051500</td>\n",
       "    </tr>\n",
       "    <tr>\n",
       "      <th>max</th>\n",
       "      <td>22.328000</td>\n",
       "      <td>35.255000</td>\n",
       "    </tr>\n",
       "  </tbody>\n",
       "</table>\n",
       "</div>"
      ],
      "text/plain": [
       "       Congruent (C)  Incongruent (IC)\n",
       "count      24.000000         24.000000\n",
       "mean       14.051125         22.015917\n",
       "std         3.559358          4.797057\n",
       "min         8.630000         15.687000\n",
       "25%        11.895250         18.716750\n",
       "50%        14.356500         21.017500\n",
       "75%        16.200750         24.051500\n",
       "max        22.328000         35.255000"
      ]
     },
     "execution_count": 2,
     "metadata": {},
     "output_type": "execute_result"
    }
   ],
   "source": [
    "# Descriptive Statistics Analysis on the data\n",
    "dataFrame.describe()"
   ]
  },
  {
   "cell_type": "markdown",
   "metadata": {},
   "source": [
    "Note: After proofing the values provided by the describe() function used above, I can confirm that __Bessel's Correction__ has been applied to calculate the standard deviations of the two (paired) samples."
   ]
  },
  {
   "cell_type": "code",
   "execution_count": 57,
   "metadata": {
    "collapsed": false
   },
   "outputs": [
    {
     "data": {
      "text/plain": [
       "Congruent (C)       14.3565\n",
       "Incongruent (IC)    21.0175\n",
       "dtype: float64"
      ]
     },
     "execution_count": 57,
     "metadata": {},
     "output_type": "execute_result"
    }
   ],
   "source": [
    "# Median of the Congurnet and Incongruent Data\n",
    "dataFrame.median()"
   ]
  },
  {
   "cell_type": "markdown",
   "metadata": {},
   "source": [
    "#### Congruent Data"
   ]
  },
  {
   "cell_type": "code",
   "execution_count": 71,
   "metadata": {
    "collapsed": false
   },
   "outputs": [
    {
     "data": {
      "text/plain": [
       "13.698000000000002"
      ]
     },
     "execution_count": 71,
     "metadata": {},
     "output_type": "execute_result"
    }
   ],
   "source": [
    "# Range of the Congruent Data\n",
    "rangeCongruent = dataFrame['Congruent (C)'].max() - dataFrame['Congruent (C)'].min()\n",
    "rangeCongruent"
   ]
  },
  {
   "cell_type": "code",
   "execution_count": 72,
   "metadata": {
    "collapsed": false
   },
   "outputs": [
    {
     "data": {
      "text/plain": [
       "4.3054999999999986"
      ]
     },
     "execution_count": 72,
     "metadata": {},
     "output_type": "execute_result"
    }
   ],
   "source": [
    "# Inter Quantile Range of the Congruent Data\n",
    "iqrCongruent = dataFrame['Congruent (C)'].quantile(.75)- dataFrame['Congruent (C)'].quantile(.25)\n",
    "iqrCongruent"
   ]
  },
  {
   "cell_type": "markdown",
   "metadata": {},
   "source": [
    "#### Incongruent Data"
   ]
  },
  {
   "cell_type": "code",
   "execution_count": 76,
   "metadata": {
    "collapsed": false
   },
   "outputs": [
    {
     "data": {
      "text/plain": [
       "19.568"
      ]
     },
     "execution_count": 76,
     "metadata": {},
     "output_type": "execute_result"
    }
   ],
   "source": [
    "# Range of the Incongruent Data\n",
    "rangeIncongruent = dataFrame['Incongruent (IC)'].max() - dataFrame['Incongruent (IC)'].min()\n",
    "rangeIncongruent"
   ]
  },
  {
   "cell_type": "code",
   "execution_count": 77,
   "metadata": {
    "collapsed": false
   },
   "outputs": [
    {
     "data": {
      "text/plain": [
       "5.3347499999999997"
      ]
     },
     "execution_count": 77,
     "metadata": {},
     "output_type": "execute_result"
    }
   ],
   "source": [
    "# Inter Quantile Range of the Incongruent Data\n",
    "iqrIncongruent = dataFrame['Incongruent (IC)'].quantile(.75)- dataFrame['Incongruent (IC)'].quantile(.25)\n",
    "iqrIncongruent"
   ]
  },
  {
   "cell_type": "markdown",
   "metadata": {},
   "source": [
    "## Question 4: Plot the data"
   ]
  },
  {
   "cell_type": "markdown",
   "metadata": {},
   "source": [
    "### Histogram\n",
    "Let's take a look at the histograms of the Congruent and the Incongruent data."
   ]
  },
  {
   "cell_type": "code",
   "execution_count": 42,
   "metadata": {
    "collapsed": false
   },
   "outputs": [
    {
     "data": {
      "image/png": "[encoded data removed]",
      "text/plain": [
       "<matplotlib.figure.Figure at 0xd0b9c50>"
      ]
     },
     "metadata": {},
     "output_type": "display_data"
    }
   ],
   "source": [
    "# Create Histogram of Experiment Data\n",
    "dataFrame_hist = dataFrame.hist(bins=15)"
   ]
  },
  {
   "cell_type": "markdown",
   "metadata": {},
   "source": [
    "Taking a look a the histogram of the two dataset, one can immediatly recognize that the values for _IWC_ results are much higher than for the _CWC_ results. Even though, one can also see that there are overlaps in the values."
   ]
  },
  {
   "cell_type": "markdown",
   "metadata": {},
   "source": [
    "### Boxplot\n",
    "Now, let's take a look at the boxplot of the data."
   ]
  },
  {
   "cell_type": "code",
   "execution_count": 126,
   "metadata": {
    "collapsed": false
   },
   "outputs": [
    {
     "data": {
      "image/png": "[encoded data removed]",
      "text/plain": [
       "<matplotlib.figure.Figure at 0xe9a3390>"
      ]
     },
     "metadata": {},
     "output_type": "display_data"
    }
   ],
   "source": [
    "# Create Boxplot of Experiment Data\n",
    "dataFrame_boxplot = dataFrame.boxplot(return_type='axes')"
   ]
  },
  {
   "cell_type": "markdown",
   "metadata": {},
   "source": [
    "The box plot of the sample data of _CWC_ and _IWC_ indicated already that there is a difference between two value sets. Acoording to that the results for _IWC_ are higher than results of to the _CWC_. For example, if we take a look at the __Inter Quantile Range__ of both result sets, there is not even an overlap of the ranges. Also the Medians - robust against outliers - of the two data sets are quite different."
   ]
  },
  {
   "cell_type": "markdown",
   "metadata": {},
   "source": [
    "## Question 5: Perform the statistical test and interpret your results\n",
    "\n",
    "As stated above, to investigate if there is a significant difference between the _CWC_ results and the _IWC_ results a __dependent t-test for paired samples__ is beeing applied.\n",
    "\n",
    "##### Hypotheses\n",
    "\n",
    "The following hyptheses have been established:\n",
    "\n",
    "H<sub>0</sub>: &mu;<sub>C</sub> = &mu;<sub>IC</sub>\n",
    "\n",
    "H<sub>A</sub>: &mu;<sub>C</sub>  &ne; &mu;<sub>IC</sub>\n",
    "\n",
    "With respect to H<sub>0</sub> - as we wanna accept or reject H<sub>0</sub> - a two-tailed hypothesis test will be performed.\n",
    "\n",
    "#####  Data\n",
    "\n",
    "This test requires to calculated the __difference__ of sample pairs. The calculation of that value has been done outside __jupyter__ and stored in a separate file. Let's take a look at that file first."
   ]
  },
  {
   "cell_type": "code",
   "execution_count": 107,
   "metadata": {
    "collapsed": false,
    "scrolled": false
   },
   "outputs": [
    {
     "data": {
      "text/html": [
       "<div>\n",
       "<table border=\"1\" class=\"dataframe\">\n",
       "  <thead>\n",
       "    <tr style=\"text-align: right;\">\n",
       "      <th></th>\n",
       "      <th>Congruent (C)</th>\n",
       "      <th>Incongruent (IC)</th>\n",
       "      <th>Difference D (C-IC)</th>\n",
       "    </tr>\n",
       "  </thead>\n",
       "  <tbody>\n",
       "    <tr>\n",
       "      <th>0</th>\n",
       "      <td>12.079</td>\n",
       "      <td>19.278</td>\n",
       "      <td>-7.199</td>\n",
       "    </tr>\n",
       "    <tr>\n",
       "      <th>1</th>\n",
       "      <td>16.791</td>\n",
       "      <td>18.741</td>\n",
       "      <td>-1.950</td>\n",
       "    </tr>\n",
       "    <tr>\n",
       "      <th>2</th>\n",
       "      <td>9.564</td>\n",
       "      <td>21.214</td>\n",
       "      <td>-11.650</td>\n",
       "    </tr>\n",
       "    <tr>\n",
       "      <th>3</th>\n",
       "      <td>8.630</td>\n",
       "      <td>15.687</td>\n",
       "      <td>-7.057</td>\n",
       "    </tr>\n",
       "    <tr>\n",
       "      <th>4</th>\n",
       "      <td>14.669</td>\n",
       "      <td>22.803</td>\n",
       "      <td>-8.134</td>\n",
       "    </tr>\n",
       "    <tr>\n",
       "      <th>5</th>\n",
       "      <td>12.238</td>\n",
       "      <td>20.878</td>\n",
       "      <td>-8.640</td>\n",
       "    </tr>\n",
       "    <tr>\n",
       "      <th>6</th>\n",
       "      <td>14.692</td>\n",
       "      <td>24.572</td>\n",
       "      <td>-9.880</td>\n",
       "    </tr>\n",
       "    <tr>\n",
       "      <th>7</th>\n",
       "      <td>8.987</td>\n",
       "      <td>17.394</td>\n",
       "      <td>-8.407</td>\n",
       "    </tr>\n",
       "    <tr>\n",
       "      <th>8</th>\n",
       "      <td>9.401</td>\n",
       "      <td>20.762</td>\n",
       "      <td>-11.361</td>\n",
       "    </tr>\n",
       "    <tr>\n",
       "      <th>9</th>\n",
       "      <td>14.480</td>\n",
       "      <td>26.282</td>\n",
       "      <td>-11.802</td>\n",
       "    </tr>\n",
       "    <tr>\n",
       "      <th>10</th>\n",
       "      <td>22.328</td>\n",
       "      <td>24.524</td>\n",
       "      <td>-2.196</td>\n",
       "    </tr>\n",
       "    <tr>\n",
       "      <th>11</th>\n",
       "      <td>15.298</td>\n",
       "      <td>18.644</td>\n",
       "      <td>-3.346</td>\n",
       "    </tr>\n",
       "    <tr>\n",
       "      <th>12</th>\n",
       "      <td>15.073</td>\n",
       "      <td>17.510</td>\n",
       "      <td>-2.437</td>\n",
       "    </tr>\n",
       "    <tr>\n",
       "      <th>13</th>\n",
       "      <td>16.929</td>\n",
       "      <td>20.330</td>\n",
       "      <td>-3.401</td>\n",
       "    </tr>\n",
       "    <tr>\n",
       "      <th>14</th>\n",
       "      <td>18.200</td>\n",
       "      <td>35.255</td>\n",
       "      <td>-17.055</td>\n",
       "    </tr>\n",
       "    <tr>\n",
       "      <th>15</th>\n",
       "      <td>12.130</td>\n",
       "      <td>22.158</td>\n",
       "      <td>-10.028</td>\n",
       "    </tr>\n",
       "    <tr>\n",
       "      <th>16</th>\n",
       "      <td>18.495</td>\n",
       "      <td>25.139</td>\n",
       "      <td>-6.644</td>\n",
       "    </tr>\n",
       "    <tr>\n",
       "      <th>17</th>\n",
       "      <td>10.639</td>\n",
       "      <td>20.429</td>\n",
       "      <td>-9.790</td>\n",
       "    </tr>\n",
       "    <tr>\n",
       "      <th>18</th>\n",
       "      <td>11.344</td>\n",
       "      <td>17.425</td>\n",
       "      <td>-6.081</td>\n",
       "    </tr>\n",
       "    <tr>\n",
       "      <th>19</th>\n",
       "      <td>12.369</td>\n",
       "      <td>34.288</td>\n",
       "      <td>-21.919</td>\n",
       "    </tr>\n",
       "    <tr>\n",
       "      <th>20</th>\n",
       "      <td>12.944</td>\n",
       "      <td>23.894</td>\n",
       "      <td>-10.950</td>\n",
       "    </tr>\n",
       "    <tr>\n",
       "      <th>21</th>\n",
       "      <td>14.233</td>\n",
       "      <td>17.960</td>\n",
       "      <td>-3.727</td>\n",
       "    </tr>\n",
       "    <tr>\n",
       "      <th>22</th>\n",
       "      <td>19.710</td>\n",
       "      <td>22.058</td>\n",
       "      <td>-2.348</td>\n",
       "    </tr>\n",
       "    <tr>\n",
       "      <th>23</th>\n",
       "      <td>16.004</td>\n",
       "      <td>21.157</td>\n",
       "      <td>-5.153</td>\n",
       "    </tr>\n",
       "  </tbody>\n",
       "</table>\n",
       "</div>"
      ],
      "text/plain": [
       "    Congruent (C)  Incongruent (IC)  Difference D (C-IC)\n",
       "0          12.079            19.278               -7.199\n",
       "1          16.791            18.741               -1.950\n",
       "2           9.564            21.214              -11.650\n",
       "3           8.630            15.687               -7.057\n",
       "4          14.669            22.803               -8.134\n",
       "5          12.238            20.878               -8.640\n",
       "6          14.692            24.572               -9.880\n",
       "7           8.987            17.394               -8.407\n",
       "8           9.401            20.762              -11.361\n",
       "9          14.480            26.282              -11.802\n",
       "10         22.328            24.524               -2.196\n",
       "11         15.298            18.644               -3.346\n",
       "12         15.073            17.510               -2.437\n",
       "13         16.929            20.330               -3.401\n",
       "14         18.200            35.255              -17.055\n",
       "15         12.130            22.158              -10.028\n",
       "16         18.495            25.139               -6.644\n",
       "17         10.639            20.429               -9.790\n",
       "18         11.344            17.425               -6.081\n",
       "19         12.369            34.288              -21.919\n",
       "20         12.944            23.894              -10.950\n",
       "21         14.233            17.960               -3.727\n",
       "22         19.710            22.058               -2.348\n",
       "23         16.004            21.157               -5.153"
      ]
     },
     "execution_count": 107,
     "metadata": {},
     "output_type": "execute_result"
    }
   ],
   "source": [
    "# path to data for test\n",
    "path1 = r'C:\\Users\\105056796\\Box Sync\\Udacity\\Data Science\\Files/stroopdata_inclDiff.csv'\n",
    "# data for test including the difference of CWC and IWC pairs and the squared deviations\n",
    "dataFrame_complete = pd.read_csv(path1)\n",
    "\n",
    "# show complete data frame\n",
    "dataFrame_complete"
   ]
  },
  {
   "cell_type": "markdown",
   "metadata": {},
   "source": [
    "For performing the hypothesis test some values need to be calculed. Therefore, in the next sections the __Standard Deviation__ of Differences, the __Mean__ of Differences and the __Standard Error__ of the differences are getting calculated."
   ]
  },
  {
   "cell_type": "markdown",
   "metadata": {},
   "source": [
    "##### Standard Deviation of Differences\n",
    "\n",
    "Now let's calculated the __Standard Deviation__ of the __Differences__ between the sample pairs. Please note that __Bessel' Correction__ is getting applied."
   ]
  },
  {
   "cell_type": "code",
   "execution_count": 105,
   "metadata": {
    "collapsed": false
   },
   "outputs": [
    {
     "data": {
      "text/plain": [
       "4.864826910359054"
      ]
     },
     "execution_count": 105,
     "metadata": {},
     "output_type": "execute_result"
    }
   ],
   "source": [
    "# Standard Deviation of Differences between Sample Pairs\n",
    "sample_stddev_d = dataFrame_complete['Difference D (C-IC)'].std()\n",
    "sample_stddev_d"
   ]
  },
  {
   "cell_type": "code",
   "execution_count": 109,
   "metadata": {
    "collapsed": false
   },
   "outputs": [
    {
     "data": {
      "text/plain": [
       "-7.964791666666667"
      ]
     },
     "execution_count": 109,
     "metadata": {},
     "output_type": "execute_result"
    }
   ],
   "source": [
    "# Mean of Differences\n",
    "sample_mean_d = dataFrame_complete['Difference D (C-IC)'].mean()\n",
    "sample_mean_d"
   ]
  },
  {
   "cell_type": "code",
   "execution_count": 111,
   "metadata": {
    "collapsed": false
   },
   "outputs": [
    {
     "data": {
      "text/plain": [
       "0.9930286347783402"
      ]
     },
     "execution_count": 111,
     "metadata": {},
     "output_type": "execute_result"
    }
   ],
   "source": [
    "# Mean of Differences\n",
    "sample_stdError_d = sample_stddev_d / (math.sqrt(dataFrame_complete['Difference D (C-IC)'].count()))\n",
    "sample_stdError_d"
   ]
  },
  {
   "cell_type": "markdown",
   "metadata": {},
   "source": [
    "##### &alpha;-Level, Confidence Interval and t-critical Values"
   ]
  },
  {
   "cell_type": "markdown",
   "metadata": {},
   "source": [
    "To perform the hypothesis test an __&alpha;-Level__ of 0.05 is used. That means that the __Confidence Level (CL)__ is 95 %. The corresponding __Conficende Interval (CI)__ can be calculated using the values of the __t-table__ considering the __Degree of Freedom (dF)__ - calculated as _dF = n-1_, where _n_ is the sample size - as well as _CL_.\n",
    "\n",
    "For a 95 % _CL_ the __t-critical values__ are __&plusmn;2.069__.\n",
    "\n",
    "Knowing that, the values for _CI_ can be calulated. For calculating the _CI_ values the __Mean__, the __Standard Error__ and the __t-critical value__ will be used:"
   ]
  },
  {
   "cell_type": "code",
   "execution_count": 112,
   "metadata": {
    "collapsed": true
   },
   "outputs": [],
   "source": [
    "# define t-critical value\n",
    "t_crit = 2.069"
   ]
  },
  {
   "cell_type": "code",
   "execution_count": 117,
   "metadata": {
    "collapsed": false
   },
   "outputs": [
    {
     "data": {
      "text/plain": [
       "-10.01440276884916"
      ]
     },
     "execution_count": 117,
     "metadata": {},
     "output_type": "execute_result"
    }
   ],
   "source": [
    "# Lower Boundary\n",
    "low_CI_boundary = sample_mean_d - (sample_stdError_d * t_crit)\n",
    "low_CI_boundary"
   ]
  },
  {
   "cell_type": "code",
   "execution_count": 116,
   "metadata": {
    "collapsed": false
   },
   "outputs": [
    {
     "data": {
      "text/plain": [
       "-5.915180564484173"
      ]
     },
     "execution_count": 116,
     "metadata": {},
     "output_type": "execute_result"
    }
   ],
   "source": [
    "# Upper Boundary\n",
    "upp_CI_boundary = sample_mean_d + (sample_stdError_d * t_crit)\n",
    "upp_CI_boundary"
   ]
  },
  {
   "cell_type": "markdown",
   "metadata": {},
   "source": [
    "##### t-Score\n",
    "\n",
    "Now the __t-score__ is getting calculated. To do that we first calculated the __Point Estimate (PE)__. _PE_ is the difference between means of _IWC_ and _CWC_."
   ]
  },
  {
   "cell_type": "code",
   "execution_count": 123,
   "metadata": {
    "collapsed": false
   },
   "outputs": [
    {
     "data": {
      "text/plain": [
       "-7.964791666666665"
      ]
     },
     "execution_count": 123,
     "metadata": {},
     "output_type": "execute_result"
    }
   ],
   "source": [
    "# Point Estimate\n",
    "point_est = dataFrame['Congruent (C)'].mean() - dataFrame['Incongruent (IC)'].mean()\n",
    "point_est"
   ]
  },
  {
   "cell_type": "code",
   "execution_count": 125,
   "metadata": {
    "collapsed": false
   },
   "outputs": [
    {
     "data": {
      "text/plain": [
       "-8.020706944109959"
      ]
     },
     "execution_count": 125,
     "metadata": {},
     "output_type": "execute_result"
    }
   ],
   "source": [
    "# t-Score\n",
    "t_score = point_est/sample_stdError_d\n",
    "t_score"
   ]
  },
  {
   "cell_type": "markdown",
   "metadata": {},
   "source": [
    "##### Result\n",
    "The _t-Score_ calculated for the paired samples is way outside the range of _t-critical values_ and therefore we __reject H<sub>0</sub>__. \n",
    "\n",
    "In fact, that result means that it took the subjects of the experiment significantly less time to complete the experiment with the _CWC_. Therefore we can argue that _human beeings can say out loud the color of the ink in which a word is printed significantly faster if the word and the ink used are congruent_.\n",
    "\n",
    "After taking the experiment myself, that is the result that I personally expected."
   ]
  },
  {
   "cell_type": "markdown",
   "metadata": {},
   "source": [
    "## Question 6: Digging deeper and extending the investigation\n",
    "According to the literatuer about _Stroop Effect_ the processing of the human brain and hence the reaction time of the task gets affected by way how the words are displayed. Means if the word which describes a color is written in that same colored ink, than it is easier for the brain to process that information compared to the situation where the word which describes a color is written in a different colored ink.\n",
    "\n",
    "Appart from that original experiment to show and proof the _Stroop Effect_ other variations of the test were investigated as well. One concrete example is the __Numerical Stroop Effect Test__. In that test subjects need to identify the higher numerical value. In the congruent trails the higher numerical value is written in a bigger physical size. In the incongruent trails the smaller numerical value is written in a bigger size. It was found that subjects reaction time to identify the higher numerical value in the case of incongruent pairs is slower."
   ]
  }
 ],
 "metadata": {
  "kernelspec": {
   "display_name": "Python 2",
   "language": "python",
   "name": "python2"
  },
  "language_info": {
   "codemirror_mode": {
    "name": "ipython",
    "version": 2
   },
   "file_extension": ".py",
   "mimetype": "text/x-python",
   "name": "python",
   "nbconvert_exporter": "python",
   "pygments_lexer": "ipython2",
   "version": "2.7.11"
  }
 },
 "nbformat": 4,
 "nbformat_minor": 0
}
