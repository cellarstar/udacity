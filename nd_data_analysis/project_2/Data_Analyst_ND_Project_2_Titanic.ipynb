{
 "cells": [
  {
   "cell_type": "markdown",
   "metadata": {
    "collapsed": true
   },
   "source": [
    "# Investigation of the Titanic Passengers Data Set\n",
    "Base for the investigation is a data set which lists passengers of the Titanic. That data will be used further on to build up some more insights on the Titanic tragedy, especially about the people on that ship and the characteristics which made them survive more or less likely.\n",
    "\n",
    "# Titanic Investigation\n",
    "    What factors made people more likely to survive? What are typical characteristics of survivers?\n",
    "    - Is there a relationship between Passenger Travel Class and the probability to survive?\n",
    "    - Is there a relationship between the Fare and the probability to survive?\n",
    "    - Is there a relationship between the Sex and the probability to survive?\n",
    "    - Is there a relationship between the Age and the probability to survive?\n",
    "    - Is there a relationship between the number of Sibilings/Spouses and the probability to survive?\n",
    "    - Is there a relationship between the number of Parents/Children and the probability to survive?\n",
    "    \n",
    "    What are the approaches we wanna follow to get more information on that question?\n",
    "    - For direct comparision of two different attributes, we will follow a correlation analysis.\n",
    "    \n",
    "    However, even before the above stated investigations, we will focus on cleaning up the data set to make sure it can be used for proper statistical analysis. We will also take a closer look at each of the data columns, sometimes put it in relation to other columns and even start drawing first conclusions.\n",
    "    "
   ]
  },
  {
   "cell_type": "markdown",
   "metadata": {},
   "source": [
    "# Titanic Data"
   ]
  },
  {
   "cell_type": "markdown",
   "metadata": {},
   "source": [
    "## Get Environment ready"
   ]
  },
  {
   "cell_type": "code",
   "execution_count": 1,
   "metadata": {
    "collapsed": false
   },
   "outputs": [],
   "source": [
    "# Import the libraries needed for our data analysis\n",
    "\n",
    "import pandas as pd\n",
    "from pandas.tools.plotting import scatter_matrix\n",
    "import numpy as np\n",
    "\n",
    "import math\n",
    "import matplotlib.pyplot as plt\n",
    "%matplotlib inline\n",
    "\n",
    "import scipy.stats  as stats"
   ]
  },
  {
   "cell_type": "code",
   "execution_count": 2,
   "metadata": {
    "collapsed": false
   },
   "outputs": [],
   "source": [
    "# Can be used to a list column to the end of a dataframe object\n",
    "# - attribute newCol is the column data to be added\n",
    "# - attribute newColName is the name of the new column to be added\n",
    "# - attribute df is the dataframe the new column will be added to\n",
    "def add_col_to_df(newCol, newColName, df):\n",
    "    values = np.insert(df.values,df.shape[1],newCol,axis=1)\n",
    "    header = df.columns.values.tolist()\n",
    "    header.append(newColName)\n",
    "    return pd.DataFrame(values,columns=header)\n",
    "\n",
    "# Can be used to a list column to the end of a dataframe object\n",
    "# - attribute main_df is a pandas dataframe and includes the data for variables Var1 and Var2\n",
    "def proportionSurvived(main_df, Var1, Var2):\n",
    "    by_var = main_df.groupby([Var1, Var2]) \n",
    "    table = by_var.size().unstack() \n",
    "    normedtable = table.div(table.sum(1), axis=0) \n",
    "    return normedtable\n",
    "\n",
    "# Plot horizontal bar\n",
    "# - attribute main_df is a pandas dataframe and includes the data for variables Var1 and Var2\n",
    "def plot_horizontal_bar(titlename, main_df, Var1, Var2, ylabel, xlabel):\n",
    "    fig1, axes1 = plt.subplots(1, 1)\n",
    "    table = proportionSurvived(main_df, Var1, Var2)\n",
    "    tb = table.plot(kind='barh', stacked=True, ax=axes1, title=titlename)\n",
    "    tb.set_ylabel(ylabel)\n",
    "    tb.set_xlabel(xlabel)\n",
    "    return fig1.show()\n",
    "\n",
    "# Plot correlation matrix\n",
    "# - attribute main_df is a pandas dataframe and includes the data for variables Var1 and Var2\n",
    "# - attribute usedMethod is the method with is getting used to calculate the correlation coefficient. \n",
    "#   (possitble values are 'pearson', 'spearman', 'kendall')\n",
    "def plot_correlation_matrix(main_df, usedMethod, Var1, Var2):\n",
    "    temp_df = pd.DataFrame()\n",
    "    temp_df[Var1] = main_df[Var1]\n",
    "    temp_df[Var2] = main_df[Var2]\n",
    "    axes = scatter_matrix(temp_df, alpha=0.5, diagonal='kde')\n",
    "    # Choose the correct test\n",
    "    corr = temp_df.corr(method=usedMethod).as_matrix()\n",
    "    for i, j in zip(*plt.np.triu_indices_from(axes, k=1)):\n",
    "        axes[i, j].annotate(\"%.3f\" %corr[i,j], (0.8, 0.8), xycoords='axes fraction', ha='center', va='center')\n",
    "    return plt.show()\n",
    "\n",
    "# this functiona is calculating the phi correlation between two binary variables\n",
    "# prerequisits are \n",
    "# - attribute main_df is a pandas dataframe and includes the data for variables Var1 and Var2\n",
    "# - attribute variables (Var1, Var2) reflect binary values 0 and 1\n",
    "def phi_correlation(main_df, Var1, Var2):\n",
    "    temp_phi_df = pd.DataFrame()\n",
    "    temp_phi_df[Var1] = main_df[Var1]\n",
    "    temp_phi_df[Var2] = main_df[Var2]\n",
    "    valA = pd.DataFrame(temp_phi_df.loc[temp_phi_df[Var1] == 0].groupby(Var2).count()).Survived[0]\n",
    "    valB = pd.DataFrame(temp_phi_df.loc[temp_phi_df[Var1] == 0].groupby(Var2).count()).Survived[1]\n",
    "    valC = pd.DataFrame(temp_phi_df.loc[temp_phi_df[Var1] == 1].groupby(Var2).count()).Survived[0]\n",
    "    valD = pd.DataFrame(temp_phi_df.loc[temp_phi_df[Var1] == 1].groupby(Var2).count()).Survived[1]\n",
    "    corr = (valA*valD)/(math.sqrt((valA+valB)*(valC+valD)*(valA+valC)*(valB+valD)))\n",
    "    return corr\n"
   ]
  },
  {
   "cell_type": "markdown",
   "metadata": {},
   "source": [
    "## Load Titanic Data"
   ]
  },
  {
   "cell_type": "code",
   "execution_count": 3,
   "metadata": {
    "collapsed": false
   },
   "outputs": [
    {
     "data": {
      "text/html": [
       "<div>\n",
       "<table border=\"1\" class=\"dataframe\">\n",
       "  <thead>\n",
       "    <tr style=\"text-align: right;\">\n",
       "      <th></th>\n",
       "      <th>Survived</th>\n",
       "      <th>Pclass</th>\n",
       "      <th>Name</th>\n",
       "      <th>Sex</th>\n",
       "      <th>Age</th>\n",
       "      <th>SibSp</th>\n",
       "      <th>Parch</th>\n",
       "      <th>Ticket</th>\n",
       "      <th>Fare</th>\n",
       "      <th>Cabin</th>\n",
       "      <th>Embarked</th>\n",
       "    </tr>\n",
       "    <tr>\n",
       "      <th>PassengerId</th>\n",
       "      <th></th>\n",
       "      <th></th>\n",
       "      <th></th>\n",
       "      <th></th>\n",
       "      <th></th>\n",
       "      <th></th>\n",
       "      <th></th>\n",
       "      <th></th>\n",
       "      <th></th>\n",
       "      <th></th>\n",
       "      <th></th>\n",
       "    </tr>\n",
       "  </thead>\n",
       "  <tbody>\n",
       "    <tr>\n",
       "      <th>1</th>\n",
       "      <td>0</td>\n",
       "      <td>3</td>\n",
       "      <td>Braund, Mr. Owen Harris</td>\n",
       "      <td>male</td>\n",
       "      <td>22</td>\n",
       "      <td>1</td>\n",
       "      <td>0</td>\n",
       "      <td>A/5 21171</td>\n",
       "      <td>7.2500</td>\n",
       "      <td>NaN</td>\n",
       "      <td>S</td>\n",
       "    </tr>\n",
       "    <tr>\n",
       "      <th>2</th>\n",
       "      <td>1</td>\n",
       "      <td>1</td>\n",
       "      <td>Cumings, Mrs. John Bradley (Florence Briggs Th...</td>\n",
       "      <td>female</td>\n",
       "      <td>38</td>\n",
       "      <td>1</td>\n",
       "      <td>0</td>\n",
       "      <td>PC 17599</td>\n",
       "      <td>71.2833</td>\n",
       "      <td>C85</td>\n",
       "      <td>C</td>\n",
       "    </tr>\n",
       "    <tr>\n",
       "      <th>3</th>\n",
       "      <td>1</td>\n",
       "      <td>3</td>\n",
       "      <td>Heikkinen, Miss. Laina</td>\n",
       "      <td>female</td>\n",
       "      <td>26</td>\n",
       "      <td>0</td>\n",
       "      <td>0</td>\n",
       "      <td>STON/O2. 3101282</td>\n",
       "      <td>7.9250</td>\n",
       "      <td>NaN</td>\n",
       "      <td>S</td>\n",
       "    </tr>\n",
       "    <tr>\n",
       "      <th>4</th>\n",
       "      <td>1</td>\n",
       "      <td>1</td>\n",
       "      <td>Futrelle, Mrs. Jacques Heath (Lily May Peel)</td>\n",
       "      <td>female</td>\n",
       "      <td>35</td>\n",
       "      <td>1</td>\n",
       "      <td>0</td>\n",
       "      <td>113803</td>\n",
       "      <td>53.1000</td>\n",
       "      <td>C123</td>\n",
       "      <td>S</td>\n",
       "    </tr>\n",
       "    <tr>\n",
       "      <th>5</th>\n",
       "      <td>0</td>\n",
       "      <td>3</td>\n",
       "      <td>Allen, Mr. William Henry</td>\n",
       "      <td>male</td>\n",
       "      <td>35</td>\n",
       "      <td>0</td>\n",
       "      <td>0</td>\n",
       "      <td>373450</td>\n",
       "      <td>8.0500</td>\n",
       "      <td>NaN</td>\n",
       "      <td>S</td>\n",
       "    </tr>\n",
       "  </tbody>\n",
       "</table>\n",
       "</div>"
      ],
      "text/plain": [
       "             Survived  Pclass  \\\n",
       "PassengerId                     \n",
       "1                   0       3   \n",
       "2                   1       1   \n",
       "3                   1       3   \n",
       "4                   1       1   \n",
       "5                   0       3   \n",
       "\n",
       "                                                          Name     Sex  Age  \\\n",
       "PassengerId                                                                   \n",
       "1                                      Braund, Mr. Owen Harris    male   22   \n",
       "2            Cumings, Mrs. John Bradley (Florence Briggs Th...  female   38   \n",
       "3                                       Heikkinen, Miss. Laina  female   26   \n",
       "4                 Futrelle, Mrs. Jacques Heath (Lily May Peel)  female   35   \n",
       "5                                     Allen, Mr. William Henry    male   35   \n",
       "\n",
       "             SibSp  Parch            Ticket     Fare Cabin Embarked  \n",
       "PassengerId                                                          \n",
       "1                1      0         A/5 21171   7.2500   NaN        S  \n",
       "2                1      0          PC 17599  71.2833   C85        C  \n",
       "3                0      0  STON/O2. 3101282   7.9250   NaN        S  \n",
       "4                1      0            113803  53.1000  C123        S  \n",
       "5                0      0            373450   8.0500   NaN        S  "
      ]
     },
     "execution_count": 3,
     "metadata": {},
     "output_type": "execute_result"
    }
   ],
   "source": [
    "# path to data\n",
    "file_path = './datafiles/titanic/'\n",
    "file_name = 'titanic_data.csv'\n",
    "file_url  = file_path + file_name\n",
    "\n",
    "# raw data set\n",
    "titanic_df = pd.read_csv(file_url, index_col=0, parse_dates=True)\n",
    "\n",
    "# show data\n",
    "titanic_df.head(5)"
   ]
  },
  {
   "cell_type": "code",
   "execution_count": 4,
   "metadata": {
    "collapsed": false
   },
   "outputs": [
    {
     "name": "stdout",
     "output_type": "stream",
     "text": [
      "<class 'pandas.core.frame.DataFrame'>\n",
      "Int64Index: 891 entries, 1 to 891\n",
      "Data columns (total 11 columns):\n",
      "Survived    891 non-null int64\n",
      "Pclass      891 non-null int64\n",
      "Name        891 non-null object\n",
      "Sex         891 non-null object\n",
      "Age         714 non-null float64\n",
      "SibSp       891 non-null int64\n",
      "Parch       891 non-null int64\n",
      "Ticket      891 non-null object\n",
      "Fare        891 non-null float64\n",
      "Cabin       204 non-null object\n",
      "Embarked    889 non-null object\n",
      "dtypes: float64(2), int64(4), object(5)\n",
      "memory usage: 83.5+ KB\n"
     ]
    }
   ],
   "source": [
    "# info on data\n",
    "titanic_df.info()"
   ]
  },
  {
   "cell_type": "markdown",
   "metadata": {},
   "source": [
    "## Prepare Data Set"
   ]
  },
  {
   "cell_type": "markdown",
   "metadata": {},
   "source": [
    "### Data which we can use right away\n",
    "__PassengerId__\n",
    "\n",
    "Will be used as Index. No need to prepare the data.\n",
    "\n",
    "\n",
    "__Survived__\n",
    "\n",
    "No need to prepare the data. 0 = Died, 1 = Survived.\n",
    "\n",
    "\n",
    "__Pclass__\n",
    "\n",
    "No need to further the data. Numeric value indicating the Passenger Travel Class (1st, 2nd or 3rd class).\n",
    "\n",
    "__Fare__\n",
    "\n",
    "No need to prepare the data. Numeric value indicating the price a passenger paid for his ticket.\n",
    "\n",
    "__SibSp__\n",
    "\n",
    "No need to prepare the data. Numeric value indicating the Number of Siblings/Spouses aboard.\n",
    "\n",
    "_Sibling:_  Brother, Sister, Stepbrother, or Stepsister of Passenger Aboard Titanic\n",
    "\n",
    "_Spouse:_   Husband or Wife of Passenger Aboard Titanic (Mistresses and Fiances Ignored)\n",
    "\n",
    "__Parch__\n",
    "\n",
    "No need to prepare the data. Numeric value indicating the Number of Parents/Children aboard.\n",
    "\n",
    "_Parent:_   Mother or Father of Passenger Aboard Titanic\n",
    "\n",
    "_Child:_    Son, Daughter, Stepson, or Stepdaughter of Passenger Aboard Titanic"
   ]
  },
  {
   "cell_type": "markdown",
   "metadata": {},
   "source": [
    "### Data which can be removed as it is not needed\n",
    "__Name__\n",
    "\n",
    "_Name_ of a passenger is not needed for our analysis. "
   ]
  },
  {
   "cell_type": "code",
   "execution_count": 5,
   "metadata": {
    "collapsed": false
   },
   "outputs": [],
   "source": [
    "titanic_df = titanic_df.drop('Name', 1)"
   ]
  },
  {
   "cell_type": "markdown",
   "metadata": {},
   "source": [
    "__Ticket__\n",
    "\n",
    "_Ticket_ number of a passenger is not needed for our analysis. What we will use in our analysis is the ticket price. The ticket number itself seems somehow cryptic and without further context information we won't be able to use that data appropriatly."
   ]
  },
  {
   "cell_type": "code",
   "execution_count": 6,
   "metadata": {
    "collapsed": true
   },
   "outputs": [],
   "source": [
    "titanic_df = titanic_df.drop('Ticket', 1)"
   ]
  },
  {
   "cell_type": "markdown",
   "metadata": {},
   "source": [
    "__Cabin__\n",
    "\n",
    "_Cabin_ of a passenger could be an interesting attribute for our analysis. However, unfortunatley the column has to many _nan_ values inside and therefore it is not possible to use it for any of our investigations. Even filling up _nan_ values based on some logic is not possible due to the large amount of _nan_ values."
   ]
  },
  {
   "cell_type": "code",
   "execution_count": 7,
   "metadata": {
    "collapsed": true
   },
   "outputs": [],
   "source": [
    "titanic_df = titanic_df.drop('Cabin', 1)"
   ]
  },
  {
   "cell_type": "markdown",
   "metadata": {},
   "source": [
    "### Data which needs to be converted\n",
    "Non numeric data which we need to take a closer look and prepare for further usasge in analysis are columns __Sex__, __Embarked__ and __Age__."
   ]
  },
  {
   "cell_type": "markdown",
   "metadata": {},
   "source": [
    "#### Convert Sex Column\n",
    "Convert values in Sex Column into numeric values. \n",
    "\n",
    "'male': 0\n",
    "\n",
    "'female': 1"
   ]
  },
  {
   "cell_type": "code",
   "execution_count": 8,
   "metadata": {
    "collapsed": false
   },
   "outputs": [
    {
     "name": "stdout",
     "output_type": "stream",
     "text": [
      "['male' 'female']\n"
     ]
    }
   ],
   "source": [
    "# Find all the unique values for \"Sex\".\n",
    "print(titanic_df[\"Sex\"].unique())"
   ]
  },
  {
   "cell_type": "code",
   "execution_count": 9,
   "metadata": {
    "collapsed": false
   },
   "outputs": [
    {
     "name": "stdout",
     "output_type": "stream",
     "text": [
      "[0 1]\n"
     ]
    }
   ],
   "source": [
    "# Good to go by replacing male/female values, no other values inside column\n",
    "titanic_df.loc[titanic_df[\"Sex\"] == \"male\", \"Sex\"] = int(0)\n",
    "titanic_df.loc[titanic_df[\"Sex\"] == \"female\", \"Sex\"] = int(1)\n",
    "titanic_df.Sex = titanic_df.Sex.astype(int)\n",
    "print(titanic_df[\"Sex\"].unique())"
   ]
  },
  {
   "cell_type": "markdown",
   "metadata": {},
   "source": [
    "##### Convert Embarked Column\n",
    "Convert values in _Embarked_ Column into numeric values."
   ]
  },
  {
   "cell_type": "code",
   "execution_count": 10,
   "metadata": {
    "collapsed": false
   },
   "outputs": [
    {
     "name": "stdout",
     "output_type": "stream",
     "text": [
      "['S' 'C' 'Q' nan]\n",
      "S    644\n",
      "C    168\n",
      "Q     77\n",
      "Name: Embarked, dtype: int64\n"
     ]
    }
   ],
   "source": [
    "# Find all the unique values for \"Embarked\".\n",
    "print(titanic_df[\"Embarked\"].unique())\n",
    "# Take a look at the frequency specific values are appearing\n",
    "print titanic_df['Embarked'].value_counts()"
   ]
  },
  {
   "cell_type": "markdown",
   "metadata": {},
   "source": [
    "Not all of the records have valid values assigned for \"Embarked\" column and therfore some of the values are _nan_. \n",
    "As _S_ is the most frequent value for _Embarked_, we replace _nan_ with _S_ in the _Embarked_ column.\n",
    "\n",
    "For values _S_, _C_ and _Q_ the following transformation rules will be applied.\n",
    "\n",
    "__S (Southampton)__ will be translated into __0__\n",
    "\n",
    "__C (Cherbourg)__ will be translated into __1__\n",
    "\n",
    "__Q (Queenstown)__ will be translated into __2__"
   ]
  },
  {
   "cell_type": "code",
   "execution_count": 11,
   "metadata": {
    "collapsed": false
   },
   "outputs": [
    {
     "name": "stdout",
     "output_type": "stream",
     "text": [
      "[0 1 2]\n"
     ]
    }
   ],
   "source": [
    "# fill up nan values with S\n",
    "titanic_df[\"Embarked\"] = titanic_df[\"Embarked\"].fillna(\"S\")\n",
    "\n",
    "# replace alpha values with numeric values\n",
    "titanic_df.loc[titanic_df[\"Embarked\"] == \"S\", \"Embarked\"] = int(0)\n",
    "titanic_df.loc[titanic_df[\"Embarked\"] == \"C\", \"Embarked\"] = int(1)\n",
    "titanic_df.loc[titanic_df[\"Embarked\"] == \"Q\", \"Embarked\"] = int(2)\n",
    "titanic_df.Embarked = titanic_df.Embarked.astype(int)\n",
    "\n",
    "# # Find all the unique values for \"Embarked\".\n",
    "print(titanic_df[\"Embarked\"].unique())"
   ]
  },
  {
   "cell_type": "markdown",
   "metadata": {
    "collapsed": true
   },
   "source": [
    "#### Convert and prepare Age comlumn\n",
    "Prepare values in _Age_ Column."
   ]
  },
  {
   "cell_type": "code",
   "execution_count": 12,
   "metadata": {
    "collapsed": false
   },
   "outputs": [
    {
     "name": "stdout",
     "output_type": "stream",
     "text": [
      "[ 22.    38.    26.    35.      nan  54.     2.    27.    14.     4.    58.\n",
      "  20.    39.    55.    31.    34.    15.    28.     8.    19.    40.    66.\n",
      "  42.    21.    18.     3.     7.    49.    29.    65.    28.5    5.    11.\n",
      "  45.    17.    32.    16.    25.     0.83  30.    33.    23.    24.    46.\n",
      "  59.    71.    37.    47.    14.5   70.5   32.5   12.     9.    36.5   51.\n",
      "  55.5   40.5   44.     1.    61.    56.    50.    36.    45.5   20.5   62.\n",
      "  41.    52.    63.    23.5    0.92  43.    60.    10.    64.    13.    48.\n",
      "   0.75  53.    57.    80.    70.    24.5    6.     0.67  30.5    0.42\n",
      "  34.5   74.  ]\n"
     ]
    }
   ],
   "source": [
    "# Find all the unique values for \"Age\".\n",
    "print (titanic_df[\"Age\"].unique())"
   ]
  },
  {
   "cell_type": "markdown",
   "metadata": {},
   "source": [
    "As there are some _nan_ values in the data, we wanna replace them by a numeric value. The approach we gonna follow is to replace all _nan_ values by using the __interpolate__ function provided by pandas. The method we are going to use is a linear interpolation of the missing data."
   ]
  },
  {
   "cell_type": "code",
   "execution_count": 13,
   "metadata": {
    "collapsed": false
   },
   "outputs": [
    {
     "name": "stdout",
     "output_type": "stream",
     "text": [
      "[ 22.          38.          26.          35.          44.5         54.           2.\n",
      "  27.          14.           4.          58.          20.          39.          55.\n",
      "  16.5         31.          33.          34.          15.          28.           8.\n",
      "  28.5         19.          40.          48.66666667  57.33333333  66.          42.\n",
      "  31.5         21.          18.           3.          18.8         18.6\n",
      "  18.4         18.2          7.          49.          29.          65.          43.\n",
      "   5.          11.          45.          12.33333333  20.66666667  17.          32.\n",
      "  16.          25.          16.94333333   8.88666667   0.83        30.\n",
      "  19.5         23.          24.          46.          59.          71.\n",
      "  24.5         37.          29.5         42.5         47.          14.5\n",
      "  70.5         26.75        32.5         12.          34.5          9.\n",
      "  36.5         51.          55.5         40.5         45.75        34.66666667\n",
      "  39.33333333  44.           1.          61.          56.          50.          36.\n",
      "  17.66666667  31.33333333  45.5         30.5         20.5         26.5\n",
      "  31.66666667  30.33333333  41.5         62.          41.          52.          63.\n",
      "  23.75        23.5         39.66666667  29.33333333  12.97333333\n",
      "   6.94666667   0.92         8.96        30.75        20.33333333\n",
      "  24.66666667  21.5         38.66666667  60.          48.          12.5\n",
      "  38.5         10.          15.5         25.5         64.          13.\n",
      "  57.5         28.375        0.75        19.375       37.5         39.5\n",
      "  42.25         9.5         43.5         26.66666667  25.33333333  53.\n",
      "  35.5         30.66666667  37.33333333  57.          80.           1.375\n",
      "  70.          46.5          6.          27.5         35.25        35.75\n",
      "   0.67        40.75        31.25        11.5          0.42         1.66666667\n",
      "   1.33333333  11.915       74.          17.5         22.5       ]\n"
     ]
    }
   ],
   "source": [
    "# Fill up nan values with median of age\n",
    "titanic_df['Age'] = titanic_df.Age.interpolate(method='linear')\n",
    "\n",
    "# Find all the unique values for age\n",
    "print(titanic_df[\"Age\"].unique())"
   ]
  },
  {
   "cell_type": "markdown",
   "metadata": {},
   "source": [
    "### The final Data Set to be used for invstigations"
   ]
  },
  {
   "cell_type": "code",
   "execution_count": 14,
   "metadata": {
    "collapsed": false
   },
   "outputs": [
    {
     "data": {
      "text/html": [
       "<div>\n",
       "<table border=\"1\" class=\"dataframe\">\n",
       "  <thead>\n",
       "    <tr style=\"text-align: right;\">\n",
       "      <th></th>\n",
       "      <th>Survived</th>\n",
       "      <th>Pclass</th>\n",
       "      <th>Sex</th>\n",
       "      <th>Age</th>\n",
       "      <th>SibSp</th>\n",
       "      <th>Parch</th>\n",
       "      <th>Fare</th>\n",
       "      <th>Embarked</th>\n",
       "    </tr>\n",
       "    <tr>\n",
       "      <th>PassengerId</th>\n",
       "      <th></th>\n",
       "      <th></th>\n",
       "      <th></th>\n",
       "      <th></th>\n",
       "      <th></th>\n",
       "      <th></th>\n",
       "      <th></th>\n",
       "      <th></th>\n",
       "    </tr>\n",
       "  </thead>\n",
       "  <tbody>\n",
       "    <tr>\n",
       "      <th>1</th>\n",
       "      <td>0</td>\n",
       "      <td>3</td>\n",
       "      <td>0</td>\n",
       "      <td>22</td>\n",
       "      <td>1</td>\n",
       "      <td>0</td>\n",
       "      <td>7.2500</td>\n",
       "      <td>0</td>\n",
       "    </tr>\n",
       "    <tr>\n",
       "      <th>2</th>\n",
       "      <td>1</td>\n",
       "      <td>1</td>\n",
       "      <td>1</td>\n",
       "      <td>38</td>\n",
       "      <td>1</td>\n",
       "      <td>0</td>\n",
       "      <td>71.2833</td>\n",
       "      <td>1</td>\n",
       "    </tr>\n",
       "    <tr>\n",
       "      <th>3</th>\n",
       "      <td>1</td>\n",
       "      <td>3</td>\n",
       "      <td>1</td>\n",
       "      <td>26</td>\n",
       "      <td>0</td>\n",
       "      <td>0</td>\n",
       "      <td>7.9250</td>\n",
       "      <td>0</td>\n",
       "    </tr>\n",
       "    <tr>\n",
       "      <th>4</th>\n",
       "      <td>1</td>\n",
       "      <td>1</td>\n",
       "      <td>1</td>\n",
       "      <td>35</td>\n",
       "      <td>1</td>\n",
       "      <td>0</td>\n",
       "      <td>53.1000</td>\n",
       "      <td>0</td>\n",
       "    </tr>\n",
       "    <tr>\n",
       "      <th>5</th>\n",
       "      <td>0</td>\n",
       "      <td>3</td>\n",
       "      <td>0</td>\n",
       "      <td>35</td>\n",
       "      <td>0</td>\n",
       "      <td>0</td>\n",
       "      <td>8.0500</td>\n",
       "      <td>0</td>\n",
       "    </tr>\n",
       "  </tbody>\n",
       "</table>\n",
       "</div>"
      ],
      "text/plain": [
       "             Survived  Pclass  Sex  Age  SibSp  Parch     Fare  Embarked\n",
       "PassengerId                                                             \n",
       "1                   0       3    0   22      1      0   7.2500         0\n",
       "2                   1       1    1   38      1      0  71.2833         1\n",
       "3                   1       3    1   26      0      0   7.9250         0\n",
       "4                   1       1    1   35      1      0  53.1000         0\n",
       "5                   0       3    0   35      0      0   8.0500         0"
      ]
     },
     "execution_count": 14,
     "metadata": {},
     "output_type": "execute_result"
    }
   ],
   "source": [
    "# show the final dataset we use for our investigations\n",
    "titanic_df.head(5)"
   ]
  },
  {
   "cell_type": "code",
   "execution_count": 15,
   "metadata": {
    "collapsed": false
   },
   "outputs": [
    {
     "name": "stdout",
     "output_type": "stream",
     "text": [
      "<class 'pandas.core.frame.DataFrame'>\n",
      "Int64Index: 891 entries, 1 to 891\n",
      "Data columns (total 8 columns):\n",
      "Survived    891 non-null int64\n",
      "Pclass      891 non-null int64\n",
      "Sex         891 non-null int32\n",
      "Age         891 non-null float64\n",
      "SibSp       891 non-null int64\n",
      "Parch       891 non-null int64\n",
      "Fare        891 non-null float64\n",
      "Embarked    891 non-null int32\n",
      "dtypes: float64(2), int32(2), int64(4)\n",
      "memory usage: 55.7 KB\n"
     ]
    }
   ],
   "source": [
    "# show info of final data set\n",
    "titanic_df.info()"
   ]
  },
  {
   "cell_type": "markdown",
   "metadata": {},
   "source": [
    "## Statistics"
   ]
  },
  {
   "cell_type": "markdown",
   "metadata": {},
   "source": [
    "### Scale or Measurement & Type of Variable"
   ]
  },
  {
   "cell_type": "markdown",
   "metadata": {},
   "source": [
    "To know which statistical information will be provide correct and useful information, the data needs to be investigated in order to understand the __Scale of Measurement__ as well as the __Type of Variable__ of the different columns. In the following the result of that is provided, to determine the information, the different columns and their values have been inspected.\n",
    "\n",
    "__Survived__\n",
    "- Scale of Measurement: Nominal scaled\n",
    "- Type of Variable: Qualitative, binary\n",
    "\n",
    "__Sex__\n",
    "- Scale of Measurement: Nominal scaled\n",
    "- Type of Variable: Qualitative, binary\n",
    "\n",
    "__SibSp__\n",
    "- Scale of Measurement: Interval scaled\n",
    "- Type of Variable: Quantitative, steady\n",
    "\n",
    "__Parch__\n",
    "- Scale of Measurement: Interval scaled\n",
    "- Type of Variable: Quantitative, steady\n",
    "\n",
    "__Fare__\n",
    "- Scale of Measurement: NomiIntervalnal Scaled\n",
    "- Type of Variable: Quantitative, steady\n",
    "\n",
    "__Embarked__\n",
    "- Scale of Measurement: Nominal Scaled\n",
    "- Type of Variable: Qualitative, polytomous"
   ]
  },
  {
   "cell_type": "markdown",
   "metadata": {},
   "source": [
    "### Descriptive Statistics on the Data Set"
   ]
  },
  {
   "cell_type": "markdown",
   "metadata": {},
   "source": [
    "#### Sex - Basic Statistical Information of Sex data\n",
    "\n",
    "- Scale of Measurement: Nominal scaled\n",
    "- Type of Variable: Qualitative, binary"
   ]
  },
  {
   "cell_type": "code",
   "execution_count": 16,
   "metadata": {
    "collapsed": false
   },
   "outputs": [
    {
     "data": {
      "text/plain": [
       "count    891.000000\n",
       "mean       0.383838\n",
       "std        0.486592\n",
       "min        0.000000\n",
       "25%        0.000000\n",
       "50%        0.000000\n",
       "75%        1.000000\n",
       "max        1.000000\n",
       "Name: Survived, dtype: float64"
      ]
     },
     "execution_count": 16,
     "metadata": {},
     "output_type": "execute_result"
    }
   ],
   "source": [
    "titanic_df.Survived.describe()"
   ]
  },
  {
   "cell_type": "code",
   "execution_count": 17,
   "metadata": {
    "collapsed": false
   },
   "outputs": [
    {
     "name": "stdout",
     "output_type": "stream",
     "text": [
      "Number of Male passenger in the data set:    342 (0.383838383838)\n",
      "Number of Female passenger in the data set:  549 (0.616161616162)\n"
     ]
    }
   ],
   "source": [
    "# Number of records in the data set\n",
    "numbRecs = float(len(titanic_df))\n",
    "\n",
    "# Number of passengers suviving / dying\n",
    "num_died  = titanic_df.groupby('Survived')['Survived'].count()[0]\n",
    "num_surv  = titanic_df.groupby('Survived')['Survived'].count()[1]\n",
    "prop_surv = (num_surv/numbRecs)\n",
    "prop_died = (num_died/numbRecs)\n",
    "\n",
    "print 'Number of Male passenger in the data set:    ' + str(num_surv) + ' (' + str(prop_surv) + ')'\n",
    "print 'Number of Female passenger in the data set:  ' + str(num_died) + ' (' + str(prop_died) + ')'"
   ]
  },
  {
   "cell_type": "markdown",
   "metadata": {},
   "source": [
    "#### Age - Basic Statistical Information of Age data\n",
    "\n",
    "- Scale of Measurement: Interval scaled\n",
    "- Type of Variable: Quantitative, steady"
   ]
  },
  {
   "cell_type": "code",
   "execution_count": 18,
   "metadata": {
    "collapsed": false
   },
   "outputs": [
    {
     "data": {
      "text/plain": [
       "count    891.000000\n",
       "mean      29.726061\n",
       "std       13.902353\n",
       "min        0.420000\n",
       "25%       21.000000\n",
       "50%       28.500000\n",
       "75%       38.000000\n",
       "max       80.000000\n",
       "Name: Age, dtype: float64"
      ]
     },
     "execution_count": 18,
     "metadata": {},
     "output_type": "execute_result"
    }
   ],
   "source": [
    "titanic_df.Age.describe()"
   ]
  },
  {
   "cell_type": "code",
   "execution_count": 19,
   "metadata": {
    "collapsed": false
   },
   "outputs": [
    {
     "name": "stdout",
     "output_type": "stream",
     "text": [
      "Median:  28.5\n",
      "Mode:    24.0\n",
      "Range:   79.58\n",
      "IQR:     17.0\n",
      "---------------------------------------\n",
      "Avg. Age of Male:     30.3547140381\n",
      "Avg. Age of Female:   28.5708598726\n",
      "---------------------------------------\n",
      "Median of Male Age:   29.0\n",
      "Median of Female Age: 28.0\n"
     ]
    }
   ],
   "source": [
    "# Median of Age\n",
    "print 'Median:  ' + str(titanic_df.Age.median())\n",
    "# Mode of Age\n",
    "print 'Mode:    ' + str(titanic_df.Age.mode()[0])\n",
    "# Range of the Age Data\n",
    "rangeAge = titanic_df.Age.max() - titanic_df.Age.min()\n",
    "print 'Range:   ' + str(rangeAge)\n",
    "# Inter Quantile Range of the Age Data\n",
    "iqrAge = titanic_df.Age.quantile(.75)- titanic_df.Age.quantile(.25)\n",
    "print 'IQR:     ' + str(iqrAge)\n",
    "print '---------------------------------------'\n",
    "# Average Age by Sex\n",
    "print  'Avg. Age of Male:     ' +  str(titanic_df.groupby(['Sex']).mean()['Age'][0])\n",
    "print  'Avg. Age of Female:   ' +  str(titanic_df.groupby(['Sex']).mean()['Age'][1])\n",
    "print '---------------------------------------'\n",
    "# Median by Sex\n",
    "print  'Median of Male Age:   ' +  str(titanic_df.groupby(['Sex'])['Age'].median()[0])\n",
    "print  'Median of Female Age: ' +  str(titanic_df.groupby(['Sex'])['Age'].median()[1])"
   ]
  },
  {
   "cell_type": "markdown",
   "metadata": {},
   "source": [
    "#### Age - Visualization of Age data"
   ]
  },
  {
   "cell_type": "code",
   "execution_count": 20,
   "metadata": {
    "collapsed": false
   },
   "outputs": [
    {
     "data": {
      "text/plain": [
       "<matplotlib.text.Text at 0x2e9c0f0>"
      ]
     },
     "execution_count": 20,
     "metadata": {},
     "output_type": "execute_result"
    },
    {
     "data": {
      "image/png": "[encoded data removed]",
      "text/plain": [
       "<matplotlib.figure.Figure at 0x20564400>"
      ]
     },
     "metadata": {},
     "output_type": "display_data"
    }
   ],
   "source": [
    "#titanic_df.Age.hist(bins=int(rangeAge))\n",
    "hist_age_df = pd.DataFrame(np.array(titanic_df.Age))\n",
    "hist_age_df.plot(kind='hist', bins=int(rangeAge/3), title='Passengers by Passenger Travel Class (Pclass)').set_xlabel(\"Passenger Travel Class (Pclass)\")"
   ]
  },
  {
   "cell_type": "markdown",
   "metadata": {},
   "source": [
    "The above histogram of Age data shows quite is based on all passenger data."
   ]
  },
  {
   "cell_type": "code",
   "execution_count": 21,
   "metadata": {
    "collapsed": false
   },
   "outputs": [
    {
     "data": {
      "text/plain": [
       "<matplotlib.text.Text at 0x20641ef0>"
      ]
     },
     "execution_count": 21,
     "metadata": {},
     "output_type": "execute_result"
    },
    {
     "data": {
      "image/png": "[encoded data removed]",
      "text/plain": [
       "<matplotlib.figure.Figure at 0x20516ef0>"
      ]
     },
     "metadata": {},
     "output_type": "display_data"
    }
   ],
   "source": [
    "titanic_df[titanic_df.Survived == 1].Age.plot(kind='hist', bins=int(rangeAge/3), title='Passengers by Passenger Travel Class (Pclass)').set_xlabel(\"Passenger Travel Class (Pclass)\")"
   ]
  },
  {
   "cell_type": "markdown",
   "metadata": {},
   "source": [
    "Above histogram of Age data shows the age distirbution of Survivers."
   ]
  },
  {
   "cell_type": "code",
   "execution_count": 22,
   "metadata": {
    "collapsed": false
   },
   "outputs": [
    {
     "data": {
      "text/plain": [
       "<matplotlib.text.Text at 0x20cddc88>"
      ]
     },
     "execution_count": 22,
     "metadata": {},
     "output_type": "execute_result"
    },
    {
     "data": {
      "image/png": "[encoded data removed]",
      "text/plain": [
       "<matplotlib.figure.Figure at 0x20676080>"
      ]
     },
     "metadata": {},
     "output_type": "display_data"
    }
   ],
   "source": [
    "titanic_df[titanic_df.Survived == 0].Age.plot(kind='hist', bins=int(rangeAge/3), title='Passengers by Passenger Travel Class (Pclass)').set_xlabel(\"Passenger Travel Class (Pclass)\")"
   ]
  },
  {
   "cell_type": "markdown",
   "metadata": {},
   "source": [
    "Above histogram of Age data shows the age distirbution of passengers who did not survive."
   ]
  },
  {
   "cell_type": "code",
   "execution_count": 23,
   "metadata": {
    "collapsed": false
   },
   "outputs": [
    {
     "data": {
      "text/plain": [
       "<matplotlib.text.Text at 0x20ebf7f0>"
      ]
     },
     "execution_count": 23,
     "metadata": {},
     "output_type": "execute_result"
    },
    {
     "data": {
      "image/png": "[encoded data removed]",
      "text/plain": [
       "<matplotlib.figure.Figure at 0x20624e80>"
      ]
     },
     "metadata": {},
     "output_type": "display_data"
    }
   ],
   "source": [
    "pd.DataFrame(titanic_df.Age).plot(kind='box', return_type='axes', title='Boxplot on Passenger Age Data').set_ylabel(\"Age of Passengers\")"
   ]
  },
  {
   "cell_type": "markdown",
   "metadata": {},
   "source": [
    "#### PClass - Basic Statistical Information of Pclass (Plassenger Travel Class) data\n",
    "\n",
    "- Scale of Measurement: Rank scaled\n",
    "- Type of Variable: Quantitative, disrect"
   ]
  },
  {
   "cell_type": "code",
   "execution_count": 24,
   "metadata": {
    "collapsed": false
   },
   "outputs": [
    {
     "name": "stdout",
     "output_type": "stream",
     "text": [
      "count    891.000000\n",
      "mean       2.308642\n",
      "std        0.836071\n",
      "min        1.000000\n",
      "25%        2.000000\n",
      "50%        3.000000\n",
      "75%        3.000000\n",
      "max        3.000000\n",
      "Name: Pclass, dtype: float64\n"
     ]
    }
   ],
   "source": [
    "print titanic_df.Pclass.describe()"
   ]
  },
  {
   "cell_type": "code",
   "execution_count": 25,
   "metadata": {
    "collapsed": false
   },
   "outputs": [
    {
     "name": "stdout",
     "output_type": "stream",
     "text": [
      "Mode:   3\n",
      "------------------------------------------------------------\n",
      "Mean of other variables related to Plcass values: \n",
      "-\n",
      "        Survived       Sex        Age     SibSp     Parch       Fare  Embarked\n",
      "Pclass                                                                        \n",
      "1       0.629630  0.435185  37.033395  0.416667  0.356481  84.154687  0.412037\n",
      "2       0.472826  0.413043  29.713605  0.402174  0.380435  20.662183  0.125000\n",
      "3       0.242363  0.293279  26.516096  0.615071  0.393075  13.675550  0.427699\n",
      "------------------------------------------------------------\n",
      "-\n",
      "Median of other variables related to Plcass values: \n",
      "        Survived  Sex  Age  SibSp  Parch     Fare  Embarked\n",
      "Pclass                                                     \n",
      "1              1    0   36      0      0  60.2875         0\n",
      "2              0    0   29      0      0  14.2500         0\n",
      "3              0    0   26      0      0   8.0500         0\n"
     ]
    }
   ],
   "source": [
    "# Mode of Pclass\n",
    "print 'Mode:   ' + str(titanic_df.Pclass.mode()[0])\n",
    "print '------------------------------------------------------------'\n",
    "# Median of Pclass across other columns\n",
    "print 'Mean of other variables related to Plcass values: '\n",
    "print '-'\n",
    "print titanic_df.groupby(['Pclass']).mean()\n",
    "print '------------------------------------------------------------'\n",
    "print '-'\n",
    "print 'Median of other variables related to Plcass values: '\n",
    "print titanic_df.groupby(['Pclass']).median()"
   ]
  },
  {
   "cell_type": "markdown",
   "metadata": {},
   "source": [
    "Taking a look at the data above, we can see some interesting insights:\n",
    "\n",
    "1) The Passenger Travel Class has a high impact on the propability a passenger survived or not. 1st Class passengers had a propability of about 63 % to survive, 2nd Class passengers about 47 % and 3rd Class passengers about 24 %.\n",
    "\n",
    "2) Taking a look ath the mean and median of Age data, we see that the age of 1st Class passengers tends to be higher than the ages of 2nd and 3rd Class passengers.\n",
    "\n",
    "_Note:_ \n",
    "- _The Mean is not applicale to binary (Survived, Sex) and ordinal (Pclass, Embarked) scaled data. However, as we chose 0 and 1 as values for binary data, we can easily derive the % a certain values is there. For Survived data, the value multiplied by 100 provides the % of people who serviced in a specific Passenger Class. For Sex data, the value multiplied by 100 provides the % of women in a specific Passenger Class._\n",
    "- _Please ignore the Median of binary data._\n"
   ]
  },
  {
   "cell_type": "markdown",
   "metadata": {},
   "source": [
    "#### Pclass - Visualization of Passenger Travel Class data"
   ]
  },
  {
   "cell_type": "code",
   "execution_count": 26,
   "metadata": {
    "collapsed": false,
    "scrolled": true
   },
   "outputs": [
    {
     "name": "stdout",
     "output_type": "stream",
     "text": [
      "Number of Passenger by Passenger Travel Class: Pclass\n",
      "1    216\n",
      "2    184\n",
      "3    491\n",
      "Name: Pclass, dtype: int64\n"
     ]
    },
    {
     "data": {
      "text/plain": [
       "<matplotlib.text.Text at 0x20eaec88>"
      ]
     },
     "execution_count": 26,
     "metadata": {},
     "output_type": "execute_result"
    },
    {
     "data": {
      "image/png": "[encoded data removed]",
      "text/plain": [
       "<matplotlib.figure.Figure at 0x21153160>"
      ]
     },
     "metadata": {},
     "output_type": "display_data"
    }
   ],
   "source": [
    "print 'Number of Passenger by Passenger Travel Class: ' + str(titanic_df.groupby('Pclass').Pclass.count())\n",
    "titanic_df.Pclass.plot(kind='hist', bins=3, title='Passengers by Passenger Travel Class (Pclass)')\\\n",
    "            .set_xlabel(\"Passenger Travel Class (Pclass)\")"
   ]
  },
  {
   "cell_type": "code",
   "execution_count": 27,
   "metadata": {
    "collapsed": false
   },
   "outputs": [
    {
     "name": "stdout",
     "output_type": "stream",
     "text": [
      "Number of Passenger by Passenger Travel Class: Pclass\n",
      "1    216\n",
      "2    184\n",
      "3    491\n",
      "Name: Pclass, dtype: int64\n"
     ]
    },
    {
     "data": {
      "text/plain": [
       "<matplotlib.axes._subplots.AxesSubplot at 0x212ae630>"
      ]
     },
     "execution_count": 27,
     "metadata": {},
     "output_type": "execute_result"
    },
    {
     "data": {
      "image/png": "[encoded data removed]",
      "text/plain": [
       "<matplotlib.figure.Figure at 0x2114ab00>"
      ]
     },
     "metadata": {},
     "output_type": "display_data"
    }
   ],
   "source": [
    "print 'Number of Passenger by Passenger Travel Class: ' + str(titanic_df.groupby('Pclass').Pclass.count())\n",
    "titanic_df.Pclass.hist(bins=3)"
   ]
  },
  {
   "cell_type": "markdown",
   "metadata": {},
   "source": [
    "Almost same amout of people had tickets for 1st and 2nd class. In contrast to that, 3rd class was most requent one with about 2,5 times the passangers of each of the other passenger travel classes."
   ]
  },
  {
   "cell_type": "code",
   "execution_count": 29,
   "metadata": {
    "collapsed": false
   },
   "outputs": [
    {
     "data": {
      "image/png": "[encoded data removed]",
      "text/plain": [
       "<matplotlib.figure.Figure at 0x2114a978>"
      ]
     },
     "metadata": {},
     "output_type": "display_data"
    }
   ],
   "source": [
    "# See how Pclass and Survived data relates\n",
    "plot_horizontal_bar('Barplot for Survived Data', titanic_df, 'Pclass', 'Survived', 'Passenger Travel Class',\\\n",
    "                        'Proportion of Passengers Not Surviving / Surviving')"
   ]
  },
  {
   "cell_type": "markdown",
   "metadata": {},
   "source": [
    "#### Sex - Basic Statistical Information of Sex data\n",
    "\n",
    "- Scale of Measurement: Nominal scaled\n",
    "- Type of Variable: Qualitative, binary"
   ]
  },
  {
   "cell_type": "code",
   "execution_count": 31,
   "metadata": {
    "collapsed": false
   },
   "outputs": [
    {
     "data": {
      "text/plain": [
       "count    891.000000\n",
       "mean       0.352413\n",
       "std        0.477990\n",
       "min        0.000000\n",
       "25%        0.000000\n",
       "50%        0.000000\n",
       "75%        1.000000\n",
       "max        1.000000\n",
       "Name: Sex, dtype: float64"
      ]
     },
     "execution_count": 31,
     "metadata": {},
     "output_type": "execute_result"
    }
   ],
   "source": [
    "titanic_df.Sex.describe()"
   ]
  },
  {
   "cell_type": "code",
   "execution_count": 32,
   "metadata": {
    "collapsed": false
   },
   "outputs": [
    {
     "name": "stdout",
     "output_type": "stream",
     "text": [
      "Number of Male passenger in the data set:    577\n",
      "Number of Female passenger in the data set:  314\n"
     ]
    }
   ],
   "source": [
    "print 'Number of Male passenger in the data set:    ' + str(titanic_df.groupby('Sex')['Sex'].count()[0])\n",
    "print 'Number of Female passenger in the data set:  ' + str(titanic_df.groupby('Sex')['Sex'].count()[1])"
   ]
  },
  {
   "cell_type": "code",
   "execution_count": 33,
   "metadata": {
    "collapsed": false
   },
   "outputs": [
    {
     "name": "stdout",
     "output_type": "stream",
     "text": [
      "Number of total records in the data set:  891.0\n",
      "----------------------------------------------------------------------\n",
      "Number of male records in the data set:   577 (64.758698092 %)\n",
      "Number of female records in the data set: 314 (35.241301908 %)\n",
      "----------------------------------------------------------------------\n",
      "Percentage of Male Survivers:          18.8908145581\n",
      "Percentage of Male not surviving:      81.1091854419\n",
      "----------\n",
      "Percentage of Female Survivers:        74.2038216561\n",
      "Percentage of Female not surviving:    25.7961783439\n",
      "----------------------------------------------------------------------\n",
      "Number of male surviving:   109.0\n",
      "Number of male dead:        468.0\n",
      "Number of female surviving  233.0\n",
      "Number of female dead:       81.0\n",
      "----------------------------------------------------------------------\n"
     ]
    }
   ],
   "source": [
    "# Number of records in the data set\n",
    "numbRecs = float(len(titanic_df))\n",
    "print 'Number of total records in the data set:  ' + str(numbRecs)\n",
    "print '----------------------------------------------------------------------'\n",
    "numb_male   = titanic_df.Sex.value_counts()[0]\n",
    "numb_female = titanic_df.Sex.value_counts()[1]\n",
    "perc_male = 100/numbRecs*numb_male\n",
    "perc_female = 100/numbRecs*numb_female\n",
    "print 'Number of male records in the data set:   ' + str(numb_male) + ' (' + str(perc_male) + ' %)'\n",
    "print 'Number of female records in the data set: ' + str(numb_female) + ' (' + str(perc_female) + ' %)'\n",
    "print '----------------------------------------------------------------------'\n",
    "perc_survived_sex = np.array(titanic_df.groupby('Sex')['Survived'].mean())*100\n",
    "perc_dead_sex =  [100, 100] - perc_survived_sex\n",
    "print 'Percentage of Male Survivers:          ' + str(perc_survived_sex[0])\n",
    "print 'Percentage of Male not surviving:      ' + str(perc_dead_sex[0])\n",
    "print '----------'\n",
    "print 'Percentage of Female Survivers:        ' + str(perc_survived_sex[1])\n",
    "print 'Percentage of Female not surviving:    ' + str(perc_dead_sex[1])\n",
    "print '----------------------------------------------------------------------'\n",
    "num_male_surv   = perc_survived_sex[0] * numb_male / 100\n",
    "print 'Number of male surviving:   ' + str(num_male_surv)\n",
    "num_male_dead   = perc_dead_sex[0] * numb_male/ 100\n",
    "print 'Number of male dead:        ' + str(num_male_dead)\n",
    "num_female_surv = perc_survived_sex[1] * numb_female/ 100\n",
    "print 'Number of female surviving  ' + str(num_female_surv)\n",
    "num_female_dead = perc_dead_sex[1] * numb_female/ 100\n",
    "print 'Number of female dead:       ' + str(num_female_dead)\n",
    "print '----------------------------------------------------------------------'"
   ]
  },
  {
   "cell_type": "markdown",
   "metadata": {},
   "source": [
    "Some more insights to the Sex/Survived data relationship: Counting the gender of passengers, we can see a hugh differenet between male and female. In fact, about 65% of passengers are male and 35% are female. However, taking a look at the % of Survivers of each gender, we can see that more than 81% of male passengers died, whereas the % of females who did is remarkable smaller with about 26%."
   ]
  },
  {
   "cell_type": "markdown",
   "metadata": {},
   "source": [
    "#### Sex - Visualization of Sex data"
   ]
  },
  {
   "cell_type": "code",
   "execution_count": 34,
   "metadata": {
    "collapsed": false
   },
   "outputs": [
    {
     "data": {
      "text/plain": [
       "<matplotlib.text.Text at 0x2168fcc0>"
      ]
     },
     "execution_count": 34,
     "metadata": {},
     "output_type": "execute_result"
    },
    {
     "data": {
      "image/png": "[encoded data removed]",
      "text/plain": [
       "<matplotlib.figure.Figure at 0x2167ea20>"
      ]
     },
     "metadata": {},
     "output_type": "display_data"
    }
   ],
   "source": [
    "# Distribution of Sex amongst all Passengers\n",
    "titanic_df.Sex.plot(kind='hist', bins=2, title='Histogram on Sex of Passengers').set_xlabel('Sex of Passengers: Male (0-0.5), Female (0.5-1)')"
   ]
  },
  {
   "cell_type": "markdown",
   "metadata": {},
   "source": [
    "Illustration above outlines again that there is hugh differenet between the number of male and female passanger on board of the Titanic. "
   ]
  },
  {
   "cell_type": "code",
   "execution_count": 35,
   "metadata": {
    "collapsed": false
   },
   "outputs": [
    {
     "data": {
      "image/png": "[encoded data removed]",
      "text/plain": [
       "<matplotlib.figure.Figure at 0x218fc6a0>"
      ]
     },
     "metadata": {},
     "output_type": "display_data"
    }
   ],
   "source": [
    "plot_horizontal_bar('Barplot for Sex Data', titanic_df,'Sex','Survived','Sex (0 = Male, 1 = Female)','Proportion of Passengers Not Surviving / Surviving')"
   ]
  },
  {
   "cell_type": "markdown",
   "metadata": {},
   "source": [
    "Still having in mind that about 2/3 of the passangers are male and 1/3 is female, the above illustration clearly shows that Male passengers were more likly to die than Female passengers. In other words, he probability to survive the tragedy is much more higher for Female than for Male passengers."
   ]
  },
  {
   "cell_type": "markdown",
   "metadata": {},
   "source": [
    "#### SibSp - Basic Statistical Information of Siblings/Spouses data\n",
    "\n",
    "- Scale of Measurement: Interval scaled\n",
    "- Type of Variable: Quantitative, steady"
   ]
  },
  {
   "cell_type": "code",
   "execution_count": 36,
   "metadata": {
    "collapsed": false
   },
   "outputs": [
    {
     "data": {
      "text/plain": [
       "count    891.000000\n",
       "mean       0.523008\n",
       "std        1.102743\n",
       "min        0.000000\n",
       "25%        0.000000\n",
       "50%        0.000000\n",
       "75%        1.000000\n",
       "max        8.000000\n",
       "Name: SibSp, dtype: float64"
      ]
     },
     "execution_count": 36,
     "metadata": {},
     "output_type": "execute_result"
    }
   ],
   "source": [
    "titanic_df.SibSp.describe()"
   ]
  },
  {
   "cell_type": "code",
   "execution_count": 37,
   "metadata": {
    "collapsed": false
   },
   "outputs": [
    {
     "name": "stdout",
     "output_type": "stream",
     "text": [
      "Median:  0.0\n",
      "Mode:    0\n",
      "Range:   8\n",
      "IQR:     1.0\n"
     ]
    }
   ],
   "source": [
    "# Median of SibSp\n",
    "print 'Median:  ' + str(titanic_df.SibSp.median())\n",
    "# Mode of SibSp\n",
    "print 'Mode:    ' + str(titanic_df.SibSp.mode()[0])\n",
    "# Range of the SibSp Data\n",
    "rangeSibSp = titanic_df.SibSp.max() - titanic_df.SibSp.min()\n",
    "print 'Range:   ' + str(rangeSibSp)\n",
    "# Inter Quantile Range of the SibSp Data\n",
    "iqrSibSp = titanic_df.SibSp.quantile(.75)- titanic_df.SibSp.quantile(.25)\n",
    "print 'IQR:     ' + str(iqrSibSp)"
   ]
  },
  {
   "cell_type": "markdown",
   "metadata": {},
   "source": [
    "A basic statement about the SibSp data related to the passengers is that for the majority of passengers neither siblings nor spouses have been aboard. This is highlighted by the information above like Median, Mode, IQR as well as the 25%/50% quantiles."
   ]
  },
  {
   "cell_type": "markdown",
   "metadata": {},
   "source": [
    "#### SibSp - Visualization of Siblings/Spouses data"
   ]
  },
  {
   "cell_type": "code",
   "execution_count": 38,
   "metadata": {
    "collapsed": false
   },
   "outputs": [
    {
     "data": {
      "text/plain": [
       "<matplotlib.text.Text at 0x21a0fef0>"
      ]
     },
     "execution_count": 38,
     "metadata": {},
     "output_type": "execute_result"
    },
    {
     "data": {
      "image/png": "[encoded data removed]",
      "text/plain": [
       "<matplotlib.figure.Figure at 0x21a95ac8>"
      ]
     },
     "metadata": {},
     "output_type": "display_data"
    }
   ],
   "source": [
    "titanic_df.SibSp.plot(kind='hist', bins=rangeSibSp, title='Histogram on Siblings/Spouses of Passengers')\\\n",
    "                .set_xlabel('Number of Siblings/Spouses')"
   ]
  },
  {
   "cell_type": "markdown",
   "metadata": {},
   "source": [
    "Most of the passengers did not have a Siblings/Spouses on the Titanic (around 600 passengers). About 200 Passengers had 1 Sibling/Spouse onboard. Max number of Sibilings/Spouses was mentioned as 8."
   ]
  },
  {
   "cell_type": "code",
   "execution_count": 39,
   "metadata": {
    "collapsed": false
   },
   "outputs": [
    {
     "name": "stdout",
     "output_type": "stream",
     "text": [
      "       Survived\n",
      "SibSp          \n",
      "0           608\n",
      "1           209\n",
      "2            28\n",
      "3            16\n",
      "4            18\n",
      "5             5\n",
      "8             7\n"
     ]
    },
    {
     "data": {
      "image/png": "[encoded data removed]",
      "text/plain": [
       "<matplotlib.figure.Figure at 0x21d54390>"
      ]
     },
     "metadata": {},
     "output_type": "display_data"
    }
   ],
   "source": [
    "print pd.DataFrame(titanic_df.groupby('SibSp')['Survived'].count())\n",
    "\n",
    "plot_horizontal_bar('Barplot for Siblings/Spouses Data', titanic_df, 'SibSp', 'Survived', 'Number of Siblings/Spouses',\\\n",
    "                    'Proportion of Passengers Nor Survived / Survived')"
   ]
  },
  {
   "cell_type": "markdown",
   "metadata": {},
   "source": [
    "What we can see here is that passengers without Siblings and/or Spouses had a probability of about 65% to die. The probability to die for passengers with 1 or 2 Siblings/Spouses is a remarkable lower with about 45% and 50%. Reasons for that are hard to derive with the available data and would only be speculations without a proper foundation."
   ]
  },
  {
   "cell_type": "markdown",
   "metadata": {},
   "source": [
    "#### Parch - Basic Statistical Information of Parch data\n",
    "\n",
    "- Scale of Measurement: Interval scaled\n",
    "- Type of Variable: Quantitative, steady"
   ]
  },
  {
   "cell_type": "code",
   "execution_count": 40,
   "metadata": {
    "collapsed": false
   },
   "outputs": [
    {
     "name": "stdout",
     "output_type": "stream",
     "text": [
      "count    891.000000\n",
      "mean       0.381594\n",
      "std        0.806057\n",
      "min        0.000000\n",
      "25%        0.000000\n",
      "50%        0.000000\n",
      "75%        0.000000\n",
      "max        6.000000\n",
      "Name: Parch, dtype: float64\n"
     ]
    }
   ],
   "source": [
    "print titanic_df.Parch.describe()"
   ]
  },
  {
   "cell_type": "code",
   "execution_count": 41,
   "metadata": {
    "collapsed": false
   },
   "outputs": [
    {
     "name": "stdout",
     "output_type": "stream",
     "text": [
      "Median:  0.0\n",
      "Mode:    0\n",
      "Range:   6\n",
      "IQR:     0.0\n"
     ]
    }
   ],
   "source": [
    "# Median of Parch\n",
    "print 'Median:  ' + str(titanic_df.Parch.median())\n",
    "# Mode of Parch\n",
    "print 'Mode:    ' + str(titanic_df.Parch.mode()[0])\n",
    "# Range of the Parch Data\n",
    "rangeParch = titanic_df.Parch.max() - titanic_df.Parch.min()\n",
    "print 'Range:   ' + str(rangeParch)\n",
    "# Inter Quantile Range of the Parch Data\n",
    "iqrParch = titanic_df.Parch.quantile(.75)- titanic_df.Parch.quantile(.25)\n",
    "print 'IQR:     ' + str(iqrParch)"
   ]
  },
  {
   "cell_type": "markdown",
   "metadata": {},
   "source": [
    "A basic statement about the Parch data related to the passengers is that for the majority of passengers neither children nor parents have been aboard. This is highlighted by the information above like Median, Mode, IQR as well as the 25%/50%/75% quantiles."
   ]
  },
  {
   "cell_type": "markdown",
   "metadata": {},
   "source": [
    "#### Parch - Visualization of Parch data"
   ]
  },
  {
   "cell_type": "code",
   "execution_count": 42,
   "metadata": {
    "collapsed": false
   },
   "outputs": [
    {
     "data": {
      "text/plain": [
       "<matplotlib.text.Text at 0x21d22320>"
      ]
     },
     "execution_count": 42,
     "metadata": {},
     "output_type": "execute_result"
    },
    {
     "data": {
      "image/png": "[encoded data removed]",
      "text/plain": [
       "<matplotlib.figure.Figure at 0x21f573c8>"
      ]
     },
     "metadata": {},
     "output_type": "display_data"
    }
   ],
   "source": [
    "titanic_df.Parch.plot(kind='hist', bins=rangeParch, title='Histogram on Parents/Children of Passengers')\\\n",
    "                .set_xlabel('Number of Parents/Children')"
   ]
  },
  {
   "cell_type": "code",
   "execution_count": 43,
   "metadata": {
    "collapsed": false
   },
   "outputs": [
    {
     "data": {
      "image/png": "[encoded data removed]",
      "text/plain": [
       "<matplotlib.figure.Figure at 0x21f668d0>"
      ]
     },
     "metadata": {},
     "output_type": "display_data"
    }
   ],
   "source": [
    "plot_horizontal_bar('Barplot for Parents/Children Data', titanic_df, 'Parch', 'Survived','Number of Parents/Children',\\\n",
    "                    'Proportion of Passengers Nor Survived / Survived')"
   ]
  },
  {
   "cell_type": "markdown",
   "metadata": {},
   "source": [
    "#### Fare - Basic Statistical Information of Fare data\n",
    "\n",
    "- Scale of Measurement: NomiIntervalnal Scaled\n",
    "- Type of Variable: Quantitative, steady"
   ]
  },
  {
   "cell_type": "code",
   "execution_count": 44,
   "metadata": {
    "collapsed": false
   },
   "outputs": [
    {
     "name": "stdout",
     "output_type": "stream",
     "text": [
      "count    891.000000\n",
      "mean      32.204208\n",
      "std       49.693429\n",
      "min        0.000000\n",
      "25%        7.910400\n",
      "50%       14.454200\n",
      "75%       31.000000\n",
      "max      512.329200\n",
      "Name: Fare, dtype: float64\n"
     ]
    }
   ],
   "source": [
    "print titanic_df.Fare.describe()"
   ]
  },
  {
   "cell_type": "code",
   "execution_count": 45,
   "metadata": {
    "collapsed": false
   },
   "outputs": [
    {
     "name": "stdout",
     "output_type": "stream",
     "text": [
      "Median:   14.4542\n",
      "Mode:      8.05\n",
      "Range:   512.3292\n",
      "IQR:      23.0896\n",
      "-------------------------------------------------\n",
      "Avg. Fare of Male:            25.5238934142\n",
      "Avg. Fare of Female:          44.4798178344\n",
      "-------------------------------------------------\n",
      "Avg. Fare of PClass 1:        84.1546875\n",
      "Avg. Fare of PClass 2:        20.6621831522\n",
      "Avg. Fare of PClass 3:        13.6755501018\n",
      "-------------------------------------------------\n",
      "Median of Fare of Male:       10.5\n",
      "Median of Fare of Female:     23.0\n",
      "-------------------------------------------------\n",
      "Median of Fare of PClass 1:   60.2875\n",
      "Median of Fare of PClass 2:   14.25\n",
      "Median of Fare of PClass 3:    8.05\n"
     ]
    }
   ],
   "source": [
    "# Median of Fare\n",
    "print 'Median:   ' + str(titanic_df.Fare.median())\n",
    "# Mode of Age\n",
    "print 'Mode:      ' + str(titanic_df.Fare.mode()[0])\n",
    "# Range of the Fare Data\n",
    "rangeFare = titanic_df.Fare.max() - titanic_df.Fare.min()\n",
    "print 'Range:   ' + str(rangeFare)\n",
    "# Inter Quantile Range of the Fare Data\n",
    "iqrFare = titanic_df.Fare.quantile(.75)- titanic_df.Fare.quantile(.25)\n",
    "print 'IQR:      ' + str(iqrFare)\n",
    "print '-------------------------------------------------'\n",
    "# Average Fare by Sex \n",
    "print  'Avg. Fare of Male:            ' +  str(titanic_df.groupby(['Sex']).mean()['Fare'][0])\n",
    "print  'Avg. Fare of Female:          ' +  str(titanic_df.groupby(['Sex']).mean()['Fare'][1])\n",
    "print '-------------------------------------------------'\n",
    "# Average Fare by PClass\n",
    "print  'Avg. Fare of PClass 1:        ' +  str(titanic_df.groupby(['Pclass'])['Fare'].mean()[1])\n",
    "print  'Avg. Fare of PClass 2:        ' +  str(titanic_df.groupby(['Pclass'])['Fare'].mean()[2])\n",
    "print  'Avg. Fare of PClass 3:        ' +  str(titanic_df.groupby(['Pclass'])['Fare'].mean()[3])\n",
    "print '-------------------------------------------------'\n",
    "# Median Fare by Sex\n",
    "print  'Median of Fare of Male:       ' +  str(titanic_df.groupby(['Sex'])['Fare'].median()[0])\n",
    "print  'Median of Fare of Female:     ' +  str(titanic_df.groupby(['Sex'])['Fare'].median()[1])\n",
    "print '-------------------------------------------------'\n",
    "# Median Fare by PClass\n",
    "print  'Median of Fare of PClass 1:   ' +  str(titanic_df.groupby(['Pclass'])['Fare'].median()[1])\n",
    "print  'Median of Fare of PClass 2:   ' +  str(titanic_df.groupby(['Pclass'])['Fare'].median()[2])\n",
    "print  'Median of Fare of PClass 3:    ' +  str(titanic_df.groupby(['Pclass'])['Fare'].median()[3])"
   ]
  },
  {
   "cell_type": "markdown",
   "metadata": {},
   "source": [
    "The mean Fare is at about 32 whereas the median is at about 14,50. The 75% quantil of 31 means that 75% of all Fares are even below the mean. Reason for that are outliers (especially the ones at the very max end) which have a hugh effect on the mean of the data. Median is basically robust to outliers. So taking a look at the median as well as the IQR (Inter Quantile Range) provides us with a good understanding of the Fares of passengers. \n",
    "\n",
    "Another interesting investigation is the difference between Fares of Male and Female. Both, mean and medium, show a significantly higher Fare for Female."
   ]
  },
  {
   "cell_type": "markdown",
   "metadata": {},
   "source": [
    "#### Fare - Visualization of Fare data"
   ]
  },
  {
   "cell_type": "code",
   "execution_count": 46,
   "metadata": {
    "collapsed": false,
    "scrolled": true
   },
   "outputs": [
    {
     "data": {
      "text/plain": [
       "<matplotlib.text.Text at 0x224070b8>"
      ]
     },
     "execution_count": 46,
     "metadata": {},
     "output_type": "execute_result"
    },
    {
     "data": {
      "image/png": "[encoded data removed]",
      "text/plain": [
       "<matplotlib.figure.Figure at 0x220b2198>"
      ]
     },
     "metadata": {},
     "output_type": "display_data"
    }
   ],
   "source": [
    "titanic_df.Fare.plot(kind='hist', bins=50, title='Histogram on Fare Prices of Passengers')\\\n",
    "                .set_xlabel('Fare')"
   ]
  },
  {
   "cell_type": "markdown",
   "metadata": {},
   "source": [
    "What we can see from the above histogram is that values are very much tied to the left side of the histogram where lower prices are located. Basically the histogram is visualizing the finding mentioned below. We can see the majority of the values is below 20, but some extrem outliers to the rights side with values of 100 to 500. "
   ]
  },
  {
   "cell_type": "code",
   "execution_count": 47,
   "metadata": {
    "collapsed": false
   },
   "outputs": [
    {
     "data": {
      "text/plain": [
       "<matplotlib.axes._subplots.AxesSubplot at 0x227cc1d0>"
      ]
     },
     "execution_count": 47,
     "metadata": {},
     "output_type": "execute_result"
    },
    {
     "data": {
      "image/png": "[encoded data removed]",
      "text/plain": [
       "<matplotlib.figure.Figure at 0x228d49e8>"
      ]
     },
     "metadata": {},
     "output_type": "display_data"
    }
   ],
   "source": [
    "pd.DataFrame(titanic_df.Fare).plot(kind='box', return_type='axes', title='Boxplot on Fare Data')"
   ]
  },
  {
   "cell_type": "markdown",
   "metadata": {},
   "source": [
    "Above boxplot of Fare data confirms what has been discussed regarding the histogram."
   ]
  },
  {
   "cell_type": "markdown",
   "metadata": {},
   "source": [
    "#### Embarked - Basic Statistical Information of Emarked data\n",
    "- Scale of Measurement: Nominal Scaled\n",
    "- Type of Variable: Qualitative, polytomous"
   ]
  },
  {
   "cell_type": "code",
   "execution_count": 48,
   "metadata": {
    "collapsed": false
   },
   "outputs": [
    {
     "name": "stdout",
     "output_type": "stream",
     "text": [
      "count    891.000000\n",
      "mean       0.361392\n",
      "std        0.635673\n",
      "min        0.000000\n",
      "25%        0.000000\n",
      "50%        0.000000\n",
      "75%        1.000000\n",
      "max        2.000000\n",
      "Name: Embarked, dtype: float64\n",
      "Median:  0.0\n",
      "Mode:    0\n"
     ]
    }
   ],
   "source": [
    "print titanic_df.Embarked.describe()\n",
    "# Median of Embarked\n",
    "print 'Median:  ' + str(titanic_df.Embarked.median())\n",
    "# Mode of Embarked\n",
    "print 'Mode:    ' + str(titanic_df.Embarked.mode()[0])"
   ]
  },
  {
   "cell_type": "markdown",
   "metadata": {},
   "source": [
    "Above statistical information is not really useful for our investigation. Taking a look at Embarked information individually does not allow us to draw any conclusion."
   ]
  },
  {
   "cell_type": "code",
   "execution_count": 49,
   "metadata": {
    "collapsed": false
   },
   "outputs": [
    {
     "name": "stdout",
     "output_type": "stream",
     "text": [
      "Embarked\n",
      "0    646\n",
      "1    168\n",
      "2     77\n",
      "Name: Embarked, dtype: int64\n"
     ]
    }
   ],
   "source": [
    "print titanic_df.groupby('Embarked')['Embarked'].count()"
   ]
  },
  {
   "cell_type": "markdown",
   "metadata": {},
   "source": [
    "Obisously, as mentioned above already, because of the data in Embarked column, it is hard to draw lots of conculsions based on basic statistical information. However, what we are able to figures out is that 0 (which stands for Southampton) is the most frequent port for embarking people."
   ]
  },
  {
   "cell_type": "markdown",
   "metadata": {},
   "source": [
    "#### Embarked - Visualization of Embarked data"
   ]
  },
  {
   "cell_type": "code",
   "execution_count": 50,
   "metadata": {
    "collapsed": false
   },
   "outputs": [
    {
     "name": "stdout",
     "output_type": "stream",
     "text": [
      "0: Southampton  - 72.5028058361 %\n",
      "1: Cherbourg    - 18.8552188552 %\n",
      "2: Queenstown   - 8.64197530864 %\n"
     ]
    },
    {
     "data": {
      "image/png": "[encoded data removed]",
      "text/plain": [
       "<matplotlib.figure.Figure at 0x2257c518>"
      ]
     },
     "metadata": {},
     "output_type": "display_data"
    }
   ],
   "source": [
    "hist_Embarked = titanic_df.Embarked.plot(kind='hist', title='Histogram on Embarked Data')\n",
    "hist_Embarked.set_xlabel('Embarked Data (see Info above to relate numbers to actual Ports)')\n",
    "\n",
    "percEmbarkedS = 100/numbRecs*titanic_df.groupby('Embarked')['Embarked'].count()[0]\n",
    "percEmbarkedC = 100/numbRecs*titanic_df.groupby('Embarked')['Embarked'].count()[1]\n",
    "percEmbarkedQ = 100/numbRecs*titanic_df.groupby('Embarked')['Embarked'].count()[2]\n",
    "\n",
    "print '0: Southampton  - ' + str(percEmbarkedS) + ' %'\n",
    "print '1: Cherbourg    - ' + str(percEmbarkedC) + ' %'\n",
    "print '2: Queenstown   - ' + str(percEmbarkedQ) + ' %'"
   ]
  },
  {
   "cell_type": "markdown",
   "metadata": {},
   "source": [
    "Most of the passengers got on the boat in Southampton - 72 %. The rest got onboarded in Cherbourg and Queenstown, whereas Cherbourg emarked even more than twice the amount of Southamption."
   ]
  },
  {
   "cell_type": "code",
   "execution_count": 51,
   "metadata": {
    "collapsed": false,
    "scrolled": true
   },
   "outputs": [
    {
     "data": {
      "image/png": "[encoded data removed]",
      "text/plain": [
       "<matplotlib.figure.Figure at 0x228d4eb8>"
      ]
     },
     "metadata": {},
     "output_type": "display_data"
    }
   ],
   "source": [
    "plot_horizontal_bar('Barplot for Embarked Data', titanic_df, 'Embarked', 'Survived', \\\n",
    "                    'Embarked (see info above to related numbers to ports)',\\\n",
    "                    'Proportion of Passengers Not Surviving / Surviving')"
   ]
  },
  {
   "cell_type": "markdown",
   "metadata": {},
   "source": [
    "### Correlation Analysis on the Data Set"
   ]
  },
  {
   "cell_type": "markdown",
   "metadata": {},
   "source": [
    "To solve some of the questions stated earlier in the introduction, we will provide some correlation analysis on the data. We use correlation analysis to put two of the data columns in correlation, to see if there exists a dependency between them.\n",
    "\n",
    "The following questions are going to be answered in that way:\n",
    "\n",
    "- Is there a relationship between Passenger Travel Class and the probability to survive?\n",
    "- Is there a relationship between the Fare and the probability to survive?\n",
    "- Is there a relationship between the Sex and the probability to survive?\n",
    "- Is there a relationship between the Age and the probability to survive?\n",
    "- Is there a relationship between the number of Sibilings/Spouses and the probability to survive?\n",
    "- Is there a relationship between the number of Parents/Children and the probability to survive?"
   ]
  },
  {
   "cell_type": "markdown",
   "metadata": {},
   "source": [
    "#### Compute Correlation Coefficient for the complete data set"
   ]
  },
  {
   "cell_type": "markdown",
   "metadata": {},
   "source": [
    "Below some correlation analysis has been applied to the different data sets to see the relationship between certain variables. Important for our analysis is to see how certain variables correlate with __Survived__ variable.\n",
    "\n",
    "As the method we need to apply to calculated the correlation between 2 variables is dependent on the __scale of measurement__ (interval scaled, rank scaled, nominal scaled) and the __type of the variable__ (quantitative, qualitative), we first need to consider our finding from above investigations to decide which scale of measurement and type a variable is."
   ]
  },
  {
   "cell_type": "markdown",
   "metadata": {},
   "source": [
    "#### Relation between Passenger Travel Class and Surviving"
   ]
  },
  {
   "cell_type": "markdown",
   "metadata": {},
   "source": [
    "Variables under investigation:\n",
    "- __Survived__: Nominal scaled; qualitative, binary\n",
    "- __Pclass__: Rank scaled; qualitative, polytomous\n",
    "\n",
    "Considering the two variables, the following method will be used for correlation analysis: __Cramer V__"
   ]
  },
  {
   "cell_type": "code",
   "execution_count": 52,
   "metadata": {
    "collapsed": false
   },
   "outputs": [
    {
     "name": "stdout",
     "output_type": "stream",
     "text": [
      "Pivot table with data we need for chi-squared test:\n",
      "Pclass      1   2    3\n",
      "Survived              \n",
      "0          80  97  372\n",
      "1         136  87  119\n",
      "------------------------------- \n",
      "Chi Squared value: \n",
      "102.888988757\n",
      "p-value: \n",
      "4.5492517113e-23\n",
      "------------------------------- \n",
      "Kramers V coefficient: \n",
      "0.339817388005\n"
     ]
    }
   ],
   "source": [
    "# First we gonna do a Chi-Squared Tests\n",
    "# Pclass to Survivability\n",
    "pivot = pd.pivot_table(data = titanic_df[['Survived', 'Pclass']], index = 'Survived', columns = ['Pclass'], aggfunc = len)\n",
    "print 'Pivot table with data we need for chi-squared test:'\n",
    "print pivot\n",
    "chi2, p_value, dof, expected = stats.chi2_contingency(pivot)\n",
    "print '------------------------------- '\n",
    "print 'Chi Squared value: '\n",
    "chi2, p_value, dof, expected = stats.chi2_contingency(pivot)\n",
    "print str(chi2)\n",
    "print 'p-value: '\n",
    "print str(p_value)\n",
    "####################################################\n",
    "# now we can finally calculate Kramers V\n",
    "print '------------------------------- '\n",
    "print 'Kramers V coefficient: '\n",
    "# R values is minimum value of rows/columns of data\n",
    "R = min(2,3)\n",
    "# Calculate Cramers V\n",
    "cramers_v = math.sqrt(chi2/(numbRecs*(R-1)))\n",
    "print cramers_v"
   ]
  },
  {
   "cell_type": "markdown",
   "metadata": {},
   "source": [
    "Acoording to the value of Kramers V coefficient, there existis a medium strong (0.3398) relationship between the Passenger Travel Class and if a passenger survived or not."
   ]
  },
  {
   "cell_type": "markdown",
   "metadata": {},
   "source": [
    "#### Relation between Sex and Surviving\n",
    "Variables under investigation:\n",
    "- __Survived__: Nominal scaled; qualitative, binary\n",
    "- __Sex__: Nominal scaled; qualitative, binary\n",
    "\n",
    "Considering the two variables, the following method will be used for correlation analysis: __Phi Correlation__ "
   ]
  },
  {
   "cell_type": "code",
   "execution_count": 53,
   "metadata": {
    "collapsed": false
   },
   "outputs": [
    {
     "name": "stdout",
     "output_type": "stream",
     "text": [
      "Phi Correlation Coefficient:     0.591220954472\n"
     ]
    }
   ],
   "source": [
    "print 'Phi Correlation Coefficient:     ' + str(phi_correlation(titanic_df, 'Survived', 'Sex'))"
   ]
  },
  {
   "cell_type": "markdown",
   "metadata": {},
   "source": [
    "With a Phi-Coefficient of almost 0.6 the correlation between the two variables is medium/high. In fact, that means that the gender of a passenger has quite high impact on the passengers probability to survive."
   ]
  },
  {
   "cell_type": "markdown",
   "metadata": {},
   "source": [
    "#### Relation between Age and Surviving"
   ]
  },
  {
   "cell_type": "markdown",
   "metadata": {},
   "source": [
    "Variables under investigation:\n",
    "- __Survived__: Nominal scaled; qualitative, binary\n",
    "- __Age__: Interval scaled; quantitative, steady\n",
    "\n",
    "Considering the two variables, the following method will be used for correlation analysis: __Point Bi-Serial Correlation Coefficient__ "
   ]
  },
  {
   "cell_type": "code",
   "execution_count": 54,
   "metadata": {
    "collapsed": false
   },
   "outputs": [
    {
     "name": "stdout",
     "output_type": "stream",
     "text": [
      "Point Bi-Serial Correlation Coefficient:\n",
      "-0.0621639612853\n"
     ]
    }
   ],
   "source": [
    "print 'Point Bi-Serial Correlation Coefficient:'\n",
    "print stats.pointbiserialr(titanic_df.Survived, titanic_df.Age)[0]"
   ]
  },
  {
   "cell_type": "markdown",
   "metadata": {},
   "source": [
    "Considering the calcualted correlation coefficient (as well as the pvlaue), we note that there is no relationship between the Age of a passenger and him/her surviving the Titanic tragedy."
   ]
  },
  {
   "cell_type": "markdown",
   "metadata": {},
   "source": [
    "#### Relation between Siblings/Spouses and Surviving"
   ]
  },
  {
   "cell_type": "markdown",
   "metadata": {},
   "source": [
    "Variables under investigation:\n",
    "- __Survived__: Nominal scaled; qualitative, binary\n",
    "- __SibSp__: Interval scaled; quantitative, steady\n",
    "\n",
    "Considering the two variables, the following method will be used for correlation analysis: __Point Bi-Serial Correlation Coefficient__ "
   ]
  },
  {
   "cell_type": "code",
   "execution_count": 55,
   "metadata": {
    "collapsed": false
   },
   "outputs": [
    {
     "name": "stdout",
     "output_type": "stream",
     "text": [
      "Point Bi-Serial Correlation Coefficient:\n",
      "-0.0353224988857\n"
     ]
    }
   ],
   "source": [
    "print 'Point Bi-Serial Correlation Coefficient:'\n",
    "print stats.pointbiserialr(titanic_df.Survived, titanic_df.SibSp)[0]"
   ]
  },
  {
   "cell_type": "markdown",
   "metadata": {},
   "source": [
    "Considering the calcualted correlation coefficient (as well as the pvlaue), we note that there is no relationship between the Siblings/Spouses of a passenger and him/her surviving the Titanic tragedy."
   ]
  },
  {
   "cell_type": "markdown",
   "metadata": {},
   "source": [
    "#### Relation between Parents/Children and Surviving"
   ]
  },
  {
   "cell_type": "markdown",
   "metadata": {},
   "source": [
    "Variables under investigation:\n",
    "- __Survived__: Nominal scaled; qualitative, binary\n",
    "- __Parch__: Interval scaled; quantitative, steady\n",
    "\n",
    "Considering the two variables, the following method will be used for correlation analysis: __Point Bi-Serial Correlation Coefficient__ "
   ]
  },
  {
   "cell_type": "code",
   "execution_count": 56,
   "metadata": {
    "collapsed": false
   },
   "outputs": [
    {
     "name": "stdout",
     "output_type": "stream",
     "text": [
      "Point Bi-Serial Correlation Coefficient:\n",
      "0.0816294070835\n"
     ]
    }
   ],
   "source": [
    "print 'Point Bi-Serial Correlation Coefficient:'\n",
    "print stats.pointbiserialr(titanic_df.Survived, titanic_df.Parch)[0]"
   ]
  },
  {
   "cell_type": "markdown",
   "metadata": {},
   "source": [
    "Considering the calcualted correlation coefficient, we note that there is no relationship between the Parents/Children of a passenger and him/her surviving the Titanic tragedy."
   ]
  },
  {
   "cell_type": "markdown",
   "metadata": {},
   "source": [
    "#### Relation between Fare and Surviving"
   ]
  },
  {
   "cell_type": "markdown",
   "metadata": {},
   "source": [
    "Variables under investigation:\n",
    "- __Survived__: Nominal scaled; qualitative, binary\n",
    "- __Fare__: Interval scaled; quantitative, steady\n",
    "\n",
    "Considering the two variables, the following method will be used for correlation analysis: __Point Bi-Serial Correlation Coefficient__ "
   ]
  },
  {
   "cell_type": "code",
   "execution_count": 57,
   "metadata": {
    "collapsed": false
   },
   "outputs": [
    {
     "name": "stdout",
     "output_type": "stream",
     "text": [
      "Point Bi-Serial Correlation Coefficient:\n",
      "0.257306522385\n"
     ]
    }
   ],
   "source": [
    "print 'Point Bi-Serial Correlation Coefficient:'\n",
    "print stats.pointbiserialr(titanic_df.Survived, titanic_df.Fare)[0]"
   ]
  },
  {
   "cell_type": "markdown",
   "metadata": {},
   "source": [
    "With a Phi-Coefficient of almost 0.26 the correlation between the two variables is low/medium. In fact, that means that the Fare of a passenger has low/medium impact on the passengers probability to survive."
   ]
  },
  {
   "cell_type": "markdown",
   "metadata": {},
   "source": [
    "#### Relation between Embarked and Surviving"
   ]
  },
  {
   "cell_type": "markdown",
   "metadata": {},
   "source": [
    "Variables under investigation:\n",
    "- __Survived__: Nominal scaled; qualitative, binary\n",
    "- __Embarked__: Nominal scaled; qualitative, polytomous\n",
    "\n",
    "Considering the two variables, the following method will be used for correlation analysis: __Kramers V Coefficient__ "
   ]
  },
  {
   "cell_type": "code",
   "execution_count": 58,
   "metadata": {
    "collapsed": false
   },
   "outputs": [
    {
     "data": {
      "text/plain": [
       "Embarked\n",
       "0    646\n",
       "1    168\n",
       "2     77\n",
       "Name: Survived, dtype: int64"
      ]
     },
     "execution_count": 58,
     "metadata": {},
     "output_type": "execute_result"
    }
   ],
   "source": [
    "titanic_df.groupby('Embarked').count().Survived"
   ]
  },
  {
   "cell_type": "code",
   "execution_count": 59,
   "metadata": {
    "collapsed": false
   },
   "outputs": [
    {
     "name": "stdout",
     "output_type": "stream",
     "text": [
      "Pivot table with data we need for chi-squared test:\n",
      "Embarked    0   1   2\n",
      "Survived             \n",
      "0         427  75  47\n",
      "1         219  93  30\n",
      "------------------------------- \n",
      "Chi Squared value: \n",
      "25.9644528819\n",
      "p-value: \n",
      "2.30086264814e-06\n",
      "------------------------------- \n",
      "Kramers V coefficient: \n",
      "0.170706766392\n"
     ]
    }
   ],
   "source": [
    "# First we gonna do a Chi-Squared Tests\n",
    "# Pclass to Survivability\n",
    "pivot = pd.pivot_table(data = titanic_df[['Survived', 'Embarked']], index = 'Survived', columns = ['Embarked'], aggfunc = len)\n",
    "print 'Pivot table with data we need for chi-squared test:'\n",
    "print pivot\n",
    "chi2, p_value, dof, expected = stats.chi2_contingency(pivot)\n",
    "print '------------------------------- '\n",
    "print 'Chi Squared value: '\n",
    "chi2, p_value, dof, expected = stats.chi2_contingency(pivot)\n",
    "print str(chi2)\n",
    "print 'p-value: '\n",
    "print str(p_value)\n",
    "\n",
    "####################################################\n",
    "# now we can finally calculate Kramers V\n",
    "print '------------------------------- '\n",
    "print 'Kramers V coefficient: '\n",
    "# R values is minimum value of rows/columns of data\n",
    "R = min(2,3)\n",
    "# Calculate Cramers V\n",
    "cramers_v = math.sqrt(chi2/(numbRecs*(R-1)))\n",
    "print cramers_v"
   ]
  },
  {
   "cell_type": "markdown",
   "metadata": {},
   "source": [
    "Acoording to the value of Kramers V coefficient, there existis no/low (0.1707) relationship between the Port where passengers got embarked and if a passenger survived or not."
   ]
  },
  {
   "cell_type": "markdown",
   "metadata": {},
   "source": [
    "# Summary of Findings and Insights"
   ]
  },
  {
   "cell_type": "markdown",
   "metadata": {},
   "source": [
    "There is a number of interesting facts we observed during the above analysis. Some of them, obivously the most important ones, will summaries here again.\n",
    "\n",
    "- Women were more likely to survive the tragedy than men. That is further illustrated by some of the graphs and descriptive statistics above, as well as it is proofed with a correlation analysis (using  Phi Correlation method) which shows a medium, or even strong relationship (correlation coefficient = 0.59) between _Sex_ and _Survived_ data.\n",
    "- There seems to be even a quite low relation between the _Embarked_ data and if a passenger was surviving. A correlation coefficient of 0,17 indicates that relationship (Kramers V methods method).\n",
    "- There exists a medium relationship between the Passengers Travel Class _Pclass_ and if a passenger was surviving. A correlation coefficient of 0,34 indicates that relationship (Kramers V methods).\n",
    "- There existis a low relation between the ticket price _Fare_ and if a passenger was surviving. A correlation coefficient of 0,26 indicates that relationship (Point Bi-Serial Correlation method)."
   ]
  },
  {
   "cell_type": "markdown",
   "metadata": {},
   "source": [
    "# Limitations\n",
    "Obviously there exist limitations related to the above investigation itself as well as to the proposed findings and insights.\n",
    "\n",
    "- When cleaning the data to make it work for the different statistical methods used throughout the investigation changes have been done to it. Some of the changes did not impact the data quality at all (changing text/characters to numbers without loosing or predicting any information). On the other side, data was not always complete and therefore certain approaches have been taken to deal with that.\n",
    "- Data has been removed. Name, Ticket and Cabin data has been removed from the investigated data set (reasons why to do that are stated above). When removing the data, potentially we removed the possibility to gain some more insights as well. The name might not have been to interesting for investigation, but even in that piece maybe some information like titles of nobility might have led to some new insights. Also Tickets and Cabin data might have been helpful, but unfortunatley was too cryptic or/and too incomplete for any further investigations.\n",
    "- Some of the _nan_ values of Age and Embarked data has been filled up. The approach on Age data was to interpolate age data for the missing values using the panda library to apply a linear interpolation. The idea was to provide a better input to the missing data than only picking some specific values like Median, Mode, or Mean to fill up the data (even if it is applied to subgroups). However, certainly a limitation of the investigation. Embarked data was filled up with the Modus/Median of available Embarked data.\n",
    "- Further it's worth to mention that we got a limited data set. There might be more data helpful for providing more insights to the tragedy. For example the heigth, lenght, weight of a person, or what sports a persons was doing. Many more factors that can impact our analysis.\n",
    "- Above analysis uses only correlation analysis to come up with some insights and findings. There might be other, even more sophisticated and appropriate methods to analyse the data, eg. Regression Analysis.\n"
   ]
  },
  {
   "cell_type": "markdown",
   "metadata": {},
   "source": [
    "# Resources\n",
    "\n",
    "Resources used to get this project done:\n",
    "\n",
    "Books:\n",
    "- Joel Grus: \"Data Science from Scratch\" - O'Reilley\n",
    "- Wes McKinney: \"Python for Data Analysis\" - O'Reilley\n",
    "- Udo Kuckartz, et al: \"Statistik - Eine erständliche Einführung\", Springer VS\n",
    "\n",
    "Websites:\n",
    "- Google.com\n",
    "- pandas.pydata.org\n",
    "- docs.scipy.org\n",
    "- stackoverflow.com\n",
    "- and many more..."
   ]
  }
 ],
 "metadata": {
  "kernelspec": {
   "display_name": "Python 2",
   "language": "python",
   "name": "python2"
  },
  "language_info": {
   "codemirror_mode": {
    "name": "ipython",
    "version": 2
   },
   "file_extension": ".py",
   "mimetype": "text/x-python",
   "name": "python",
   "nbconvert_exporter": "python",
   "pygments_lexer": "ipython2",
   "version": "2.7.11"
  }
 },
 "nbformat": 4,
 "nbformat_minor": 0
}
