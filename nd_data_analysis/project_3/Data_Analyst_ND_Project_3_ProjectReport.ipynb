{
 "cells": [
  {
   "cell_type": "markdown",
   "metadata": {},
   "source": [
    "# Open Street Map Analysis\n",
    "### Course: Data Wrangling with MongoDB"
   ]
  },
  {
   "cell_type": "markdown",
   "metadata": {},
   "source": [
    "Content: Processing of OSM Dataset\n",
    "- Problems encountered in your map\n",
    "- Overview of the data\n",
    "- Other ideas about the dataset\n",
    "\n",
    "\n",
    "Note: The Report about this project is stored in a separated file (Data_Analyst_ND_Project_3_ProcessData.html)."
   ]
  },
  {
   "cell_type": "markdown",
   "metadata": {},
   "source": [
    "## Project Report\n",
    "\n",
    "### Problems encountered in your map\n",
    "__Guideline:__ Student response describes the challenges encountered while auditing, fixing and processing the dataset for the area of their choice. Some of the problems encountered during data audit are cleaned programmatically."
   ]
  },
  {
   "cell_type": "markdown",
   "metadata": {},
   "source": [
    "#### Data Problems\n",
    "- Updating/cleaning street names - abbreviations as part of the complete name: earlier in the project I had issues for specific cases of abbreviations of street names. Eg. \"Str\" -> \"Street\" (abbreviation -> streetname) lead to \"Street\" -> \"Streeteet\". Also, if there were more than one abbreviation in a street name, my first update function was only considering the first abbreviation and left out other ones.\n",
    "\n",
    "\n",
    "- Updating/cleaning street names - wrongly spelled abbreviations: If an abbreviation is spelled wrongly, the name is not updated correctly.\n",
    "\n",
    "\n",
    "- Postal codes are not in the correct format: Some post codes are in an incorrect format. Like a \"from\" - \"to\" format for example. Altough most postcodes are good.\n",
    "\n",
    "\n",
    "- Postal codes are not only from within the selected county: Surprisingly, a lot of data points inside the data do not fit to the map area which was selected.\n",
    "\n",
    "\n",
    "- Amenities count (for different amentity values) for XML and JSON format not equal: This is due to the migration and restructureing of the information due to the different types of \"objects\" - nodes, ways, relations - and what information they include."
   ]
  },
  {
   "cell_type": "markdown",
   "metadata": {},
   "source": [
    "#### Other Problems\n",
    "- Complexity of formatting XML data to JSON strings: Formatting data from XML to JSON is quite a hard job, especially if you wanna make the data format prettier in the target format.\n",
    "\n",
    "\n",
    "- Issues durint restructuring of data - eg. schools vs buildings: schools are schools, and schools are buildings. Therefore one needs to take care to walk a straight line through all the conversion tasks. I decided to have schools flagged as \"addinfo.type\" = \"schools\" and (in case) building information added in a sub document. Similar problems have occured for other objects as well. (An Example of such a case can be seen in the file issue_example.txt.)\n",
    "\n",
    "\n",
    "- Diversity of data: Data is very divers and it's not so easy to find a good common format which fits all needs.\n",
    "\n",
    "\n",
    "- Import of data to MongoDB: Earlier in the process I had some issues getting the strucutre of the JSON string right. As so much data, different cases, and sub documents were inside the data.\n",
    "\n",
    "\n",
    "- Issues while processing of data file due to file size and resulting RAM utilization: I have a business laptop, not really meant to be utilized hardly. Therefore the RAM utilization was really at the peak. However, I managed to get things done by freeing up varialbes as needed."
   ]
  },
  {
   "cell_type": "markdown",
   "metadata": {},
   "source": [
    "### Overview of the Data based on XML File\n",
    "\n",
    "All the sections below are the output of programatic investivations of the data. The code itself can be found in _Data_Analyst_ND_Project_3_ProcessData.html_ file. The data has been retrieved using __Python and various Python modules supporting XML processing__."
   ]
  },
  {
   "cell_type": "markdown",
   "metadata": {},
   "source": [
    "Size of OSM XML data file: \n",
    "192404 KB"
   ]
  },
  {
   "cell_type": "raw",
   "metadata": {},
   "source": [
    "'--------------- Key Types & Count ------------------'\n",
    "'Different Key Types and Number of Occurence:'\n",
    "'----------------------------------------------------'\n",
    "{'lower': 239563, 'lower_colon': 268139, 'other': 11675, 'problemchars': 0}"
   ]
  },
  {
   "cell_type": "raw",
   "metadata": {},
   "source": [
    "'--------------- Users ------------------'\n",
    "'Number of unique users: 682'\n",
    "'----------------------------------------'\n",
    "'Top 10 users in the list and the number'\n",
    "'of posts:'\n",
    "'----------------------------------------'\n",
    "('woodpeck_fixbot', 217089)\n",
    "('ItalianMustache', 102449)\n",
    "('shuui', 94917)\n",
    "('hogrod', 48592)\n",
    "('reschultzed', 40931)\n",
    "('bbauter', 29704)\n",
    "('Mulad', 28162)\n",
    "('Gary Cox', 27193)\n",
    "('iandees', 26923)\n",
    "('TIGERcnl', 25893)"
   ]
  },
  {
   "cell_type": "raw",
   "metadata": {},
   "source": [
    "'------------------- Tag Types ----------------------'\n",
    "'Below is a list of different Tags and and their'\n",
    "'occurence in the data.'\n",
    "'----------------------------------------------------'\n",
    "[('nd', 1052051),\n",
    " ('node', 860835),\n",
    " ('tag', 519377),\n",
    " ('way', 92239),\n",
    " ('member', 17750),\n",
    " ('relation', 786),\n",
    " ('bounds', 1),\n",
    " ('note', 1),\n",
    " ('meta', 1),\n",
    " ('osm', 1)]\n",
    "'----------------------------------------------------'"
   ]
  },
  {
   "cell_type": "raw",
   "metadata": {},
   "source": [
    "'------------------ Street Types --------------------'\n",
    "'Below street names are those which do not fit into '\n",
    "'street names or street names abbrivations which are'\n",
    "'defined earlier in street_name_mapping variable.'\n",
    "'----------------------------------------------------'\n",
    "'53076:'\n",
    "set(['53076'])\n",
    "'-------------------------------'\n",
    "u'napaonline.com\\u200e:'\n",
    "set([u'napaonline.com\\u200e'])\n",
    "'-------------------------------'\n",
    "'Pointe:'\n",
    "set(['Gaslight Pointe'])\n",
    "'-------------------------------'\n",
    "'----------------------------------------------------'"
   ]
  },
  {
   "cell_type": "raw",
   "metadata": {},
   "source": [
    "'------------------ Amenity Types -------------------'\n",
    "'Below is a list of different amenities and and their'\n",
    "'occurence in the data.'\n",
    "'----------------------------------------------------'\n",
    "('parking', 2305)\n",
    "('school', 997)\n",
    "('parking_entrance', 569)\n",
    "('restaurant', 444)\n",
    "('fast_food', 230)\n",
    "('grave_yard', 199)\n",
    "('fuel', 192)\n",
    "('place_of_worship', 171)\n",
    "('bench', 142)\n",
    "('bank', 110)\n",
    "'----------------------------------------------------'\n",
    "''"
   ]
  },
  {
   "cell_type": "raw",
   "metadata": {},
   "source": [
    "'----------------- Post Codes ------------------'\n",
    "'Below is a list of all post codes and and their'\n",
    "'occurence in the data.'\n",
    "'----------------------------------------------------'\n",
    "'Number of different Post Codes: 98'\n",
    "'----------------------------------------------------'\n",
    "('53202', 993)\n",
    "('53212', 255)\n",
    "('53203', 229)\n",
    "('53538', 143)\n",
    "('53233', 132)\n",
    "('53211', 93)\n",
    "('53204', 67)\n",
    "('53215', 47)\n",
    "('53094', 42)\n",
    "('53027', 38)\n",
    "'----------------------------------------------------'\n",
    "''"
   ]
  },
  {
   "cell_type": "raw",
   "metadata": {},
   "source": [
    "'--------------- Correct Post Codes -----------------'\n",
    "'Below is a list of post codes which do belong to'\n",
    "'Waukesha County and their occurence in the data.'\n",
    "'----------------------------------------------------'\n",
    "'Number of different Correct Post Codes: 22'\n",
    "'----------------------------------------------------'\n",
    "('53029', 23)\n",
    "('53186', 23)\n",
    "('53066', 12)\n",
    "('53072', 11)\n",
    "('53045', 11)\n",
    "('53051', 10)\n",
    "('53005', 9)\n",
    "('53188', 8)\n",
    "('53151', 7)\n",
    "('53146', 3)\n",
    "('53149', 3)\n",
    "('53069', 3)\n",
    "('53089', 2)\n",
    "('53150', 2)\n",
    "('53122', 2)\n",
    "('53189', 2)\n",
    "('53153', 1)\n",
    "('53007', 1)\n",
    "('53018', 1)\n",
    "('53183', 1)\n",
    "('53187', 1)\n",
    "('53103', 1)\n",
    "'----------------------------------------------------'\n",
    "''"
   ]
  },
  {
   "cell_type": "raw",
   "metadata": {},
   "source": [
    "'----------------- Wrong Post Codes -------------------'\n",
    "'Below is a list of post codes which do not belong to'\n",
    "'Waukesha County and their occurence in the data.'\n",
    "'------------------------------------------------------'\n",
    "'Number of different Post Codes: 76'\n",
    "'CAUTION: This is a list of the TOP 10 Wrong Post Codes'\n",
    "'------------------------------------------------------'\n",
    "('53202', 993)\n",
    "('53212', 255)\n",
    "('53203', 229)\n",
    "('53538', 143)\n",
    "('53233', 132)\n",
    "('53211', 93)\n",
    "('53204', 67)\n",
    "('53215', 47)\n",
    "('53094', 42)\n",
    "('53027', 38)\n",
    "'------------------------------------------------------'\n",
    "''"
   ]
  },
  {
   "cell_type": "raw",
   "metadata": {},
   "source": [
    "'---------------- Wrong Post Codes ------------------'\n",
    "'Below is a list of post codes which do not match an'\n",
    "'extended pattern around Waukesha County and their'\n",
    "'occurence in the data.'\n",
    "'Pattern: (1) 53000 - 53599 and'\n",
    "'         (2) length of post code is 5 chars'\n",
    "'----------------------------------------------------'\n",
    "'53403-9998'\n",
    "'Milwaukee WI, 53222'\n",
    "'54220'\n",
    "'WI'\n",
    "'53214-3110'\n",
    "'53203-3099'\n",
    "'1729'\n",
    "'53217-5399'\n",
    "'----------------------------------------------------'\n",
    "''"
   ]
  },
  {
   "cell_type": "raw",
   "metadata": {},
   "source": [
    "'---------------- Different Cities ------------------'\n",
    "'Below is a list of different cities mentioned in the'\n",
    "'data and their occurence.'\n",
    "'----------------------------------------------------'\n",
    "('Milwaukee', 1592)\n",
    "('Racine', 561)\n",
    "('Fort Atkinson', 145)\n",
    "('Mount Pleasant', 120)\n",
    "('Waterloo', 57)\n",
    "('Watertown', 46)\n",
    "('Waukesha', 31)\n",
    "('Caledonia', 29)\n",
    "('Sturtevant', 27)\n",
    "('MIlwaukee', 23)\n",
    "'----------------------------------------------------'\n",
    "''"
   ]
  },
  {
   "cell_type": "raw",
   "metadata": {},
   "source": [
    "'---------------- Different Cities ------------------'\n",
    "'Below is a list of different cities mentioned in the'\n",
    "'data and their occurence.'\n",
    "'----------------------------------------------------'\n",
    "('Milwaukee', 1592)\n",
    "('Racine', 561)\n",
    "('Fort Atkinson', 145)\n",
    "('Mount Pleasant', 120)\n",
    "('Waterloo', 57)\n",
    "('Watertown', 46)\n",
    "('Waukesha', 31)\n",
    "('Caledonia', 29)\n",
    "('Sturtevant', 27)\n",
    "('MIlwaukee', 23)\n",
    "'----------------------------------------------------'\n",
    "''"
   ]
  },
  {
   "cell_type": "markdown",
   "metadata": {},
   "source": [
    "### Overview of the Data based on MongoDB DB\n",
    "\n",
    "All the sections below are the output of programatic investivations of the data. The code itself can be found in _Data_Analyst_ND_Project_3_ProcessData.html_ file. The data has been retrieved using __Python, MongoDB and pymongo Python module__.\n",
    "\n",
    "A brief overview how JSON data is structured can be seen at json_structure.txt file."
   ]
  },
  {
   "cell_type": "markdown",
   "metadata": {
    "collapsed": true
   },
   "source": [
    "Size of OSM JSON data file: \n",
    "243607 KB"
   ]
  },
  {
   "cell_type": "markdown",
   "metadata": {},
   "source": [
    "#### Number of Documents"
   ]
  },
  {
   "cell_type": "code",
   "execution_count": null,
   "metadata": {
    "collapsed": true
   },
   "outputs": [],
   "source": [
    "# Code Example\n",
    "num_docs  = db.wau_county.find().count()\n",
    "num_nodes = db.wau_county.find({\"type\":\"node\"}).count()\n",
    "num_ways  = db.wau_county.find({\"type\":\"way\"}).count()\n",
    "num_rels  = db.wau_county.find({\"type\":\"relation\"}).count()"
   ]
  },
  {
   "cell_type": "raw",
   "metadata": {},
   "source": [
    "--------------- Key Types & Count ------------------\n",
    "Nr. of Documents: 953864\n",
    "--------------------------\n",
    "Nr. of Nodes:     860835\n",
    "Nr. of Ways:      92239\n",
    "Nr. of Relations: 786"
   ]
  },
  {
   "cell_type": "markdown",
   "metadata": {},
   "source": [
    "The numbers for Nodes, Ways and Relations is consistent with the numbers gathered earlier on XML basis (see Key Types & Count). Means, thus far it looks like the migration from XML to JSON as well as the import into MongoDB was successful."
   ]
  },
  {
   "cell_type": "markdown",
   "metadata": {},
   "source": [
    "#### Users"
   ]
  },
  {
   "cell_type": "code",
   "execution_count": null,
   "metadata": {
    "collapsed": true
   },
   "outputs": [],
   "source": [
    "# Code Example\n",
    "print('--------------- Users ------------------')\n",
    "unique_users = len(db.wau_county.distinct(\"creation.user\"))\n",
    "print('Number of unique users: ' + str(unique_users))\n",
    "print('----------------------------------------')\n",
    "aggregation_query = [{\"$group\" : {\"_id\" : \"$creation.user\", \"count\" : {\"$sum\" : 1}}},\n",
    "                     {\"$sort\" : {\"count\":-1}},\n",
    "                     {\"$limit\" : 10}]\n",
    "top_users = db.wau_county.aggregate(aggregation_query)\n",
    "print('First 10 users in the list:')\n",
    "for user in top_users:\n",
    "    print user[\"_id\"] + \": \" + str(user[\"count\"])\n",
    "print('----------------------------------------')"
   ]
  },
  {
   "cell_type": "raw",
   "metadata": {},
   "source": [
    "--------------- Users ------------------\n",
    "Number of unique users: 682\n",
    "----------------------------------------\n",
    "First 10 users in the list:\n",
    "woodpeck_fixbot: 217089\n",
    "ItalianMustache: 102449\n",
    "shuui: 94917\n",
    "hogrod: 48592\n",
    "reschultzed: 40931\n",
    "bbauter: 29704\n",
    "Mulad: 28162\n",
    "Gary Cox: 27193\n",
    "iandees: 26923\n",
    "TIGERcnl: 25893\n",
    "----------------------------------------"
   ]
  },
  {
   "cell_type": "markdown",
   "metadata": {},
   "source": [
    "The top 10 users and the number of their posts is consistent with the numbers gathered earlier on XML basis (see Users). Means again, thus far it looks like the migration from XML to JSON as well as the import into MongoDB was successful."
   ]
  },
  {
   "cell_type": "markdown",
   "metadata": {},
   "source": [
    "#### Amenity Type"
   ]
  },
  {
   "cell_type": "code",
   "execution_count": null,
   "metadata": {
    "collapsed": true
   },
   "outputs": [],
   "source": [
    "# Code Example\n",
    "print '------------------ Amenity Types -------------------'\n",
    "print 'Below is a list of different amenities and and their'\n",
    "print 'occurence in the data.'\n",
    "print '----------------------------------------------------'\n",
    "aggregation_query = [\n",
    "                     {\"$match\" : { \"addinfo.type\" : {\"$exists\" : True } }},\n",
    "                     {\"$group\" : {\"_id\" : \"$addinfo.type\", \"count\" : {\"$sum\" : 1}}},\n",
    "                     {\"$sort\" : {\"count\":-1}},\n",
    "                     {\"$limit\" : 10}\n",
    "                    ]\n",
    "info_types = db.wau_county.aggregate(aggregation_query)\n",
    "print('First 10 users in the list:')\n",
    "for info in info_types:\n",
    "    print str(info[\"_id\"]) + \": \" + str(info[\"count\"])\n",
    "print('----------------------------------------')"
   ]
  },
  {
   "cell_type": "raw",
   "metadata": {},
   "source": [
    "------------------ Amenity Types -------------------\n",
    "Below is a list of different amenities and and their\n",
    "occurence in the data.\n",
    "----------------------------------------------------\n",
    "First 10 users in the list:\n",
    "highway: 62601\n",
    "building: 11053\n",
    "leisure: 2438\n",
    "parking: 2304\n",
    "natural: 2012\n",
    "school: 997\n",
    "shop: 694\n",
    "parking entrance: 569\n",
    "restaurant: 444\n",
    "fast food: 230\n",
    "----------------------------------------"
   ]
  },
  {
   "cell_type": "markdown",
   "metadata": {},
   "source": [
    "Amenities list looks a bit different now. Reason for that is that the data has been restructured and thereby amenity information, but also other information like highway, building, leisure, natural, etcs. has been clubbed together into a new addinfo.type attribute. In that attribute basically describes what the data point is, independent of the main type (node, relation, way). It provides a more comprehensive insight to the data and makes searching for specific types of nodes, ways and relations easier.\n",
    "\n",
    "However, there was an issue I had to invest in detail. Sometime, the count in the XML data was higher than the one in the MongoDB. An example for that is: school, restaurant, shops. During my investigations I found out that sometimes the migration procedure from XML to JSON was overwriting some values for \"addinfo.type\" in JSON format. For example if there was a restaurant which was a butcher shop too, in addition of being a restaurant. \n",
    "\n",
    "One example of an issue with an \"amenity\" = \"parking\" which was migrated to an \"addinfo.type\" = \"leisure\" is added in the submission in file issue_example.txt. Here, due to the restructuring of some data during the migration process, the value for \"addinfo.type\" is overwritten by \"addinfo.type\" = \"leisure\"."
   ]
  },
  {
   "cell_type": "markdown",
   "metadata": {},
   "source": [
    "#### Post Codes"
   ]
  },
  {
   "cell_type": "code",
   "execution_count": null,
   "metadata": {
    "collapsed": true
   },
   "outputs": [],
   "source": [
    "print '------------------ Post Codes -------------------'\n",
    "print 'Below is a list of all post codes and and their'\n",
    "print 'occurence in the data.'\n",
    "print '-------------------------------------------------'\n",
    "aggregation_query = [\n",
    "                     {\"$match\" : { \"address.postcode\" : {\"$exists\" : True }}},\n",
    "                     {\"$group\" : {\"_id\" : \"$address.postcode\", \"count\" : {\"$sum\" : 1}}},\n",
    "                     {\"$sort\" : {\"count\":-1}},\n",
    "                     {\"$limit\" : 10}\n",
    "                    ]\n",
    "post_codes = db.wau_county.aggregate(aggregation_query)\n",
    "print('First 10 post codes in the list:')\n",
    "for post_code in post_codes:\n",
    "    print str(post_code[\"_id\"]) + \": \" + str(post_code[\"count\"])\n",
    "print('----------------------------------------')"
   ]
  },
  {
   "cell_type": "raw",
   "metadata": {},
   "source": [
    "------------------ Post Codes -------------------\n",
    "Below is a list of all post codes and and their\n",
    "occurence in the data.\n",
    "-------------------------------------------------\n",
    "First 10 post codes in the list:\n",
    "53202: 993\n",
    "53212: 255\n",
    "53203: 229\n",
    "53538: 143\n",
    "53233: 132\n",
    "53211: 93\n",
    "53204: 67\n",
    "53215: 47\n",
    "53094: 42\n",
    "53027: 38\n",
    "----------------------------------------"
   ]
  },
  {
   "cell_type": "markdown",
   "metadata": {},
   "source": [
    "Result is equal to XML based result."
   ]
  },
  {
   "cell_type": "code",
   "execution_count": null,
   "metadata": {
    "collapsed": true
   },
   "outputs": [],
   "source": [
    "print '-------------- Correct Post Code Types ---------------'\n",
    "print 'Below is a list of post codes which do not belong to'\n",
    "print 'Waukesha County and their occurence in the data.'\n",
    "print '----------------------------------------------------'\n",
    "aggregation_query = [\n",
    "                     {\"$match\" : { \"address.postcode\" : {\"$exists\" : True } } },\n",
    "                     {\"$group\" : {\"_id\" : \"$address.postcode\", \"count\" : {\"$sum\" : 1} } },\n",
    "                     {\"$sort\" : {\"count\":-1} }\n",
    "                    ]\n",
    "post_codes = db.wau_county.aggregate(aggregation_query)\n",
    "print('First 10 post codes in the list:')\n",
    "for post_code in post_codes:\n",
    "    # this checks if the post code is in the post codes of waukesha county area\n",
    "    if post_code[\"_id\"] in post_code_expected:\n",
    "        print str(post_code[\"_id\"]) + \": \" + str(post_code[\"count\"])\n",
    "print('----------------------------------------')"
   ]
  },
  {
   "cell_type": "raw",
   "metadata": {},
   "source": [
    "-------------- Correct Post Code Types ---------------\n",
    "Below is a list of post codes which do not belong to\n",
    "Waukesha County and their occurence in the data.\n",
    "----------------------------------------------------\n",
    "First 10 post codes in the list:\n",
    "53186: 23\n",
    "53029: 23\n",
    "53066: 12\n",
    "53072: 11\n",
    "53045: 11\n",
    "53051: 10\n",
    "53005: 9\n",
    "53188: 8\n",
    "53151: 7\n",
    "53069: 3\n",
    "53146: 3\n",
    "53149: 3\n",
    "53189: 2\n",
    "53122: 2\n",
    "53089: 2\n",
    "53150: 2\n",
    "53183: 1\n",
    "53018: 1\n",
    "53103: 1\n",
    "53007: 1\n",
    "53187: 1\n",
    "53153: 1\n",
    "----------------------------------------"
   ]
  },
  {
   "cell_type": "markdown",
   "metadata": {},
   "source": [
    "Result is equal to XML based result."
   ]
  },
  {
   "cell_type": "code",
   "execution_count": null,
   "metadata": {
    "collapsed": true
   },
   "outputs": [],
   "source": [
    "print '-------------- Wrong Post Code Types ---------------'\n",
    "print 'Below is a list of post codes which do not belong to'\n",
    "print 'Waukesha County and their occurence in the data.'\n",
    "print '----------------------------------------------------'\n",
    "c = 0\n",
    "aggregation_query = [\n",
    "                     {\"$match\" : { \"address.postcode\" : {\"$exists\" : True }}},\n",
    "                     {\"$group\" : {\"_id\" : \"$address.postcode\", \"count\" : {\"$sum\" : 1}}},\n",
    "                     {\"$sort\" : {\"count\":-1}}\n",
    "                    ]\n",
    "post_codes = db.wau_county.aggregate(aggregation_query)\n",
    "print('First 10 post codes in the list:')\n",
    "for post_code in post_codes:\n",
    "    c = c+1\n",
    "    # this checks if the post code is in the post codes of waukesha county area\n",
    "    if post_code[\"_id\"] not in post_code_expected:\n",
    "        print str(post_code[\"_id\"]) + \": \" + str(post_code[\"count\"])\n",
    "    \n",
    "    # exit loop after 10 times  \n",
    "    if c == 10:\n",
    "        break\n",
    "print('----------------------------------------')"
   ]
  },
  {
   "cell_type": "raw",
   "metadata": {},
   "source": [
    "\n",
    "-------------- Wrong Post Code Types ---------------\n",
    "Below is a list of post codes which do not belong to\n",
    "Waukesha County and their occurence in the data.\n",
    "----------------------------------------------------\n",
    "First 10 post codes in the list:\n",
    "53202: 993\n",
    "53212: 255\n",
    "53203: 229\n",
    "53538: 143\n",
    "53233: 132\n",
    "53211: 93\n",
    "53204: 67\n",
    "53215: 47\n",
    "53094: 42\n",
    "53027: 38\n",
    "----------------------------------------"
   ]
  },
  {
   "cell_type": "markdown",
   "metadata": {},
   "source": [
    "Result is equal to XML based result."
   ]
  },
  {
   "cell_type": "code",
   "execution_count": null,
   "metadata": {
    "collapsed": true
   },
   "outputs": [],
   "source": [
    "print '-------------- Cities in the dataset ---------------'\n",
    "print 'Below is a list of different cities mentioned in the'\n",
    "print 'data and their occurence.'\n",
    "print '----------------------------------------------------'\n",
    "aggregation_query = [{\"$match\" : { \"address.city\" : {\"$exists\" : True }}},\n",
    "                     {\"$group\" : {\"_id\" : \"$address.city\", \"count\" : {\"$sum\" : 1}}},\n",
    "                     {\"$sort\" : {\"count\":-1}},\n",
    "                     {\"$limit\" : 10}\n",
    "                    ]\n",
    "cities = db.wau_county.aggregate(aggregation_query)\n",
    "print('First 10 users in the list:')\n",
    "for city in cities:\n",
    "    print str(city[\"_id\"]) + \": \" + str(city[\"count\"])\n",
    "print('----------------------------------------')"
   ]
  },
  {
   "cell_type": "raw",
   "metadata": {},
   "source": [
    "-------------- Cities in the dataset ---------------\n",
    "Below is a list of different cities mentioned in the\n",
    "data and their occurence.\n",
    "----------------------------------------------------\n",
    "First 10 users in the list:\n",
    "Milwaukee: 1622\n",
    "Racine: 561\n",
    "Fort Atkinson: 145\n",
    "Mount Pleasant: 120\n",
    "Waterloo: 57\n",
    "Watertown: 46\n",
    "Waukesha: 34\n",
    "Caledonia: 29\n",
    "Sturtevant: 27\n",
    "Hartland: 21\n",
    "----------------------------------------"
   ]
  },
  {
   "cell_type": "markdown",
   "metadata": {},
   "source": [
    "The counts for the different cities in the list changed between earlier data analysis on the XML data and now. Reason for the different numbers is the data cleaning done when transferring the data from XML to JSON. \n",
    "\n",
    "Example: Waukesha \n",
    "- Before data cleaning: \n",
    "        - Waukesa: 1\n",
    "        - Waukesha: 31\n",
    "        - Waukesha, WI: 1\n",
    "        - waukesha: 1\n",
    "- After data cleaning:\n",
    "        - Waukesha: 34\n",
    "        \n",
    "\n",
    "However, what's strange when looking at the different cities in the data, is that the cities with the highest occurences in the data, eg. Milwaukee, do not even below to Waukesha county. To be sure that is not an issue of the investigations on my side, I doulbechecked all everything from the beginning again... selection on OpenStreetMap, list of post codes, and so on."
   ]
  },
  {
   "cell_type": "code",
   "execution_count": null,
   "metadata": {
    "collapsed": true
   },
   "outputs": [],
   "source": [
    "aggregation_query = [{\"$match\" : {\"addinfo.religion\" : {\"$exists\":1} , \"addinfo.type\" : \"place of worship\"}},\n",
    "                     {\"$group\" : {\"_id\" : \"$addinfo.religion\", \"count\" : {\"$sum\" : 1}}},\n",
    "                     {\"$sort\" : {\"count\":-1}}\n",
    "                    ]\n",
    "places_of_worship = db.wau_county.aggregate(aggregation_query)\n",
    "\n",
    "print('-----------------------------------------')\n",
    "print('---------- Places of Worship ------------')\n",
    "print('- Information on the RELIGION of Places -')\n",
    "print('-----------------------------------------')\n",
    "for place in places_of_worship:\n",
    "    print str(place[\"_id\"]).title() + \": \" + str(place[\"count\"])\n",
    "print('----------------------------------------')"
   ]
  },
  {
   "cell_type": "raw",
   "metadata": {},
   "source": [
    "-----------------------------------------\n",
    "---------- Places of Worship ------------\n",
    "- Information on the RELIGION of Places -\n",
    "-----------------------------------------\n",
    "Christian: 52\n",
    "Buddhist: 2\n",
    "Jain: 1\n",
    "Sikh: 1\n",
    "Jewish: 1\n",
    "Muslim: 1\n",
    "Scientologist: 1\n",
    "Hindu: 1\n",
    "----------------------------------------"
   ]
  },
  {
   "cell_type": "markdown",
   "metadata": {},
   "source": [
    "Above information is displaying all the different religions places which are mentioned in the data. By far, Christian's places are most frequent with 52 appearances in the data. In the next section we take a closer look at those Christian's places and what denomination they follow."
   ]
  },
  {
   "cell_type": "code",
   "execution_count": null,
   "metadata": {
    "collapsed": true
   },
   "outputs": [],
   "source": [
    "aggregation_query = [{\"$match\" : {\"addinfo.religion\" : \"christian\" , \"addinfo.type\" : \"place of worship\"}},\n",
    "                     {\"$group\" : {\"_id\" : \"$addinfo.denomination\", \"count\" : {\"$sum\" : 1}}},\n",
    "                     {\"$sort\" : {\"count\":-1}}\n",
    "                    ]\n",
    "places_of_worship = db.wau_county.aggregate(aggregation_query)\n",
    "\n",
    "print('---------------------------------------------------')\n",
    "print('--------------- Places of Worship -----------------')\n",
    "print('- Information on the DENOMINATION of Christian\\'s -')\n",
    "print('---------------------------------------------------')\n",
    "for place in places_of_worship:\n",
    "    print str(place[\"_id\"]).title() + \": \" + str(place[\"count\"])\n",
    "print('---------------------------------------------------')"
   ]
  },
  {
   "cell_type": "raw",
   "metadata": {},
   "source": [
    "---------------------------------------------------\n",
    "--------------- Places of Worship -----------------\n",
    "- Information on the DENOMINATION of Christian's -\n",
    "---------------------------------------------------\n",
    "None: 19\n",
    "Lutheran: 13\n",
    "Catholic: 8\n",
    "Episcopal: 2\n",
    "Methodist: 1\n",
    "Mormon: 1\n",
    "Evangelical: 1\n",
    "Presbyterian: 1\n",
    "Nondenominational: 1\n",
    "Congregational: 1\n",
    "Wisconsin_Evangelical_Lutheran_Synod_(Wels): 1\n",
    "Baptist: 1\n",
    "Pentecostal: 1\n",
    "Greek_Orthodox: 1\n",
    "---------------------------------------------------"
   ]
  },
  {
   "cell_type": "markdown",
   "metadata": {},
   "source": [
    "For a good portion of all Christian places, there is no information about the denomination provided. However, from the data we have, we can see that Lutheran and Catholic denomination are most popular. \n",
    "\n",
    "__Note:__ What we can see here as well is a good of example of bad data quality. One denomination records has a value \"Wisconsin\\_Evangelical\\_Lutheran\\_Synod\\_(Wels)\". That seems to be wrong."
   ]
  },
  {
   "cell_type": "markdown",
   "metadata": {},
   "source": [
    "### Other ideas about the datasets"
   ]
  },
  {
   "cell_type": "markdown",
   "metadata": {},
   "source": [
    "#### Restaurant Objects Improvement"
   ]
  },
  {
   "cell_type": "code",
   "execution_count": null,
   "metadata": {
    "collapsed": true
   },
   "outputs": [],
   "source": [
    "aggregation_query = [{\"$match\" : {\"addinfo.type\" : {\"$exists\":1} , \"addinfo.type\" : \"restaurant\"}},\n",
    "                     {\"$group\" : {\"_id\" : \"$addinfo.cuisine\", \"count\" : {\"$sum\" : 1}}},\n",
    "                     {\"$sort\" : {\"count\":-1}},\n",
    "                     {\"$limit\" : 10}\n",
    "                    ]\n",
    "restaurants = db.wau_county.aggregate(aggregation_query)\n",
    "\n",
    "c=0\n",
    "print('----------------------------------------')\n",
    "print('-------- Cuisine in Restaurants --------')\n",
    "print('----------------------------------------')\n",
    "for restaurant in restaurants:\n",
    "    print str(restaurant[\"_id\"]).title() + \": \" + str(restaurant[\"count\"])\n",
    "    c = c+restaurant[\"count\"]\n",
    "print('----------------------------------------')\n",
    "\n",
    "print \"Number of Restaurants in the data: \" + str(c)"
   ]
  },
  {
   "cell_type": "raw",
   "metadata": {},
   "source": [
    "\n",
    "----------------------------------------\n",
    "-------- Cuisine in Restaurants --------\n",
    "----------------------------------------\n",
    "None: 241\n",
    "American: 28\n",
    "Pizza: 27\n",
    "Sandwich: 16\n",
    "Italian: 16\n",
    "Chinese: 12\n",
    "Burger: 11\n",
    "Japanese: 7\n",
    "Mexican: 7\n",
    "American_New: 7\n",
    "Regional: 4\n",
    "Greek: 3\n",
    "German: 3\n",
    "Steak_House: 3\n",
    "New_Orleans: 2\n",
    "New_American: 2\n",
    "Bagel: 2\n",
    "Irish: 2\n",
    "Sandwich: 2\n",
    "Asian: 2\n",
    "Indian: 2\n",
    "Korean: 2\n",
    "Seafood: 2\n",
    "Diner: 2\n",
    "Vietnamese: 2\n",
    "Ethiopian: 2\n",
    "Sushi: 2\n",
    "Chili: 1\n",
    "New_American; European: 1\n",
    "Wrap: 1\n",
    "American;Mediterranean: 1\n",
    "Chinese: 1\n",
    "European: 1\n",
    "Fast_Food: 1\n",
    "Noodles: 1\n",
    "Everything: 1\n",
    "Brunch: 1\n",
    "Vietnamese,Asian: 1\n",
    "Ice_Cream: 1\n",
    "Irish: 1\n",
    "International: 1\n",
    "Sub: 1\n",
    "Turkish: 1\n",
    "Asian_Fusion: 1\n",
    "Deli: 1\n",
    "World: 1\n",
    "Cuban: 1\n",
    "American_New: 1\n",
    "Pancake: 1\n",
    "Thai: 1\n",
    "Burger,_Pizza: 1\n",
    "Gastropub: 1\n",
    "Sandwich; Thai: 1\n",
    "Seafood; Grill: 1\n",
    "Pizza,_Burgers,_And_Fish_Frys: 1\n",
    "Steak: 1\n",
    "Dutch: 1\n",
    "Bbq: 1\n",
    "Pasta: 1\n",
    "Brazilian: 1\n",
    "----------------------------------------\n",
    "Number of Restaurants in the data: 444"
   ]
  },
  {
   "cell_type": "markdown",
   "metadata": {},
   "source": [
    "__What needs to be improved?__\n",
    "What we can see here is that we got a good number of 372 restaurants on the map for Waukesha County area already. However, where we can see room for improvement is definitley the specification of the cuisine. Only a about 130 restaurants provide cuisine information, where about 240 do not do so. \n",
    "\n",
    "\n",
    "__How to improve?__\n",
    "What's easy, is to find out which restaurant do no have cusine information provided and to additionally add certain information like website, phone, name, operator to that report, to enable potential \"data cleaners\" to request the data from a certain source. Where the report (below a sample report is provided, it can be improved to further support the \"data cleaner\") itself is a simple job which can be done by a data analyst, the retrieving and cleaning of the data requires manual effort and therefore might be quite a challange. _One the sample Report below: Already the name of most restaurants tells a lot about what cuisines is offererd, at least about a portion of it. Eg. Cold Spoons Gelato, Cranky Al's Bakery and Pizza, Crisp Pizza Bar and Lounge, Depot Snack Shop, Chiang Mai Thai, Chipotle Bar and Grill, Pitch's BBQ,..._\n",
    "\n",
    "\n",
    "__What are the benefits?__\n",
    "As especially restaurants might be locations which are interesting targets for map users, improved information would help increadying user satisfaction of OpenStreetMap."
   ]
  },
  {
   "cell_type": "code",
   "execution_count": null,
   "metadata": {
    "collapsed": true
   },
   "outputs": [],
   "source": [
    "# SAMPLE REPORT FOR DATA CLEANERS\n",
    "restaurants_wo_cusine = db.wau_county.find({\"addinfo.type\"    :\"restaurant\", \n",
    "                                            \"addinfo.cuisine\" : {\"$exists\":0}\n",
    "                                           })\n",
    "\n",
    "all_attrs = {\"id\" : \"ID\",\n",
    "        \"name\" : \"Name\",\n",
    "        \"operator\" : \"Operator\",\n",
    "        \"phone\" : \"Phone\",\n",
    "        \"website\" : \"Website\",\n",
    "        \"opening_hours\" : \"Opening Hours\"\n",
    "       }\n",
    "\n",
    "# as this is only a sample report, the output lines are limited to 15\n",
    "c = 0\n",
    "c_max = 15\n",
    "\n",
    "print \"---------------------------------------------------\"\n",
    "print \"---- SAMPLE REPORT FOR FILLING RESTAURANT INFO ----\"\n",
    "print \"---------------------------------------------------\"\n",
    "\n",
    "for restaurant in restaurants_wo_cusine:\n",
    "    \n",
    "    # counter for sample report\n",
    "    c = c+1\n",
    "    if c > c_max:\n",
    "        break\n",
    "    \n",
    "    # write results\n",
    "    for attr in all_attrs.keys():\n",
    "        try:\n",
    "            print all_attrs[attr] + \": \" + restaurant[attr]\n",
    "        except:\n",
    "            pass\n",
    "    print '--------------------------------------------'"
   ]
  },
  {
   "cell_type": "raw",
   "metadata": {},
   "source": [
    "---------------------------------------------------\n",
    "---- SAMPLE REPORT FOR FILLING RESTAURANT INFO ----\n",
    "---------------------------------------------------\n",
    "Name: Robert's Frozen Custard\n",
    "ID: 471082814\n",
    "--------------------------------------------\n",
    "Name: Meritage\n",
    "ID: 475437538\n",
    "--------------------------------------------\n",
    "Name: Cold Spoons Gelato\n",
    "ID: 475442109\n",
    "--------------------------------------------\n",
    "Name: Cranky Al's Bakery and Pizza\n",
    "ID: 475446467\n",
    "--------------------------------------------\n",
    "Name: Fazoli's\n",
    "ID: 545357522\n",
    "--------------------------------------------\n",
    "Name: Perkins\n",
    "ID: 545367151\n",
    "--------------------------------------------\n",
    "Name: Panera\n",
    "Opening Hours: Mo-Sa 06:00-20:30; Su 07:00-19:00\n",
    "ID: 573374681\n",
    "--------------------------------------------\n",
    "Name: Café Lulu\n",
    "ID: 573538503\n",
    "--------------------------------------------\n",
    "Name: Benji's Deli\n",
    "ID: 573736642\n",
    "--------------------------------------------\n",
    "Name: Denny's\n",
    "ID: 585911973\n",
    "--------------------------------------------\n",
    "Name: Comet Café\n",
    "Opening Hours: Sa-Su 09:00-22:00; Mo-Fr 10:00-22:00\n",
    "ID: 599825969\n",
    "--------------------------------------------\n",
    "ID: 619003078\n",
    "--------------------------------------------\n",
    "ID: 619003085\n",
    "--------------------------------------------\n",
    "Name: Jerry's Old Town Inn\n",
    "ID: 668002394\n",
    "--------------------------------------------\n",
    "Name: Bub's Irish Pub\n",
    "ID: 668002633\n",
    "--------------------------------------------"
   ]
  },
  {
   "cell_type": "markdown",
   "metadata": {},
   "source": [
    "#### WAY Objects Improvement"
   ]
  },
  {
   "cell_type": "code",
   "execution_count": null,
   "metadata": {
    "collapsed": false
   },
   "outputs": [],
   "source": [
    "aggregation_query = [{\"$match\" : {\"addinfo.type\" : {\"$exists\":1}, \"type\" : \"way\" } },\n",
    "                     {\"$group\" : {\"_id\" :\"$addinfo.type\", \"count\" : {\"$sum\" : 1}}},\n",
    "                     {\"$sort\" : {\"count\":-1}}\n",
    "                    ]\n",
    "ways = db.wau_county.aggregate(aggregation_query)\n",
    "\n",
    "print('----------------------------------------')\n",
    "print('------- Different Types of Ways --------')\n",
    "print('----------------------------------------')\n",
    "for way in ways:\n",
    "    print str(way[\"_id\"]).title() + \": \" + str(way[\"count\"])\n",
    "print('----------------------------------------')"
   ]
  },
  {
   "cell_type": "raw",
   "metadata": {},
   "source": [
    "----------------------------------------\n",
    "------- Different Types of Ways --------\n",
    "----------------------------------------\n",
    "Highway: 62593\n",
    "Building: 11027\n",
    "Leisure: 2392\n",
    "Parking: 2177\n",
    "Natural: 1938\n",
    "School: 328\n",
    "Restaurant: 129\n",
    "Place Of Worship: 103\n",
    "Fast Food: 72\n",
    "Fuel: 55\n",
    "Shelter: 52\n",
    "Bank: 48\n",
    "Bar: 37\n",
    "Theatre: 26\n",
    "Toilets: 24\n",
    "Fire Station: 21\n",
    "Grave Yard: 20\n",
    "Hospital: 19\n",
    "Pharmacy: 18\n",
    "Cafe: 17\n",
    "Library: 16\n",
    "Clinic: 13\n",
    "Community Centre: 12\n",
    "Townhall: 12\n",
    "Post Office: 12\n",
    "Car Wash: 10\n",
    "College: 10\n",
    "Pub: 10\n",
    "Bicycle Rental: 10\n",
    "University: 8\n",
    "Social Facility: 7\n",
    "Dentist: 6\n",
    "Nightclub: 6\n",
    "Police: 6\n",
    "Events Venue: 6\n",
    "Bicycle Parking: 6\n",
    "Public Building: 6\n",
    "Cinema: 5\n",
    "Marketplace: 5\n",
    "Social Centre: 4\n",
    "Courthouse: 4\n",
    "Recycling: 4\n",
    "Prison: 4\n",
    "Boatyard: 3\n",
    "Motorcycle Parking: 3\n",
    "Dojo: 3\n",
    "Biergarten: 3\n",
    "Swimming Pool: 3\n",
    "Nursing Home: 3\n",
    "Car Sharing: 2\n",
    "Fountain: 2\n",
    "Ranger Station: 2\n",
    "Ice Cream: 2\n",
    "Studio: 2\n",
    "Healthcare: 2\n",
    "Veterinary: 2\n",
    "Parking Space: 2\n",
    "Boat Storage: 1\n",
    "Car Rental: 1\n",
    "Architect Office: 1\n",
    "Hospice: 1\n",
    "Arts Centre: 1\n",
    "Mortuary: 1\n",
    "Ferry Terminal: 1\n",
    "Vehicle Inspection: 1\n",
    "Storage: 1\n",
    "Picnic Shelter: 1\n",
    "Kindergarten: 1\n",
    "Casino: 1\n",
    "Childcare: 1\n",
    "Atm: 1\n",
    "Social Club: 1\n",
    "Doctors: 1\n",
    "Whirlpool: 1\n",
    "Stripclub: 1\n",
    "Gym: 1\n",
    "----------------------------------------"
   ]
  },
  {
   "cell_type": "markdown",
   "metadata": {},
   "source": [
    "__What needs to be improved?__\n",
    "\n",
    "Above you can see a list of different types of ways inside the dataset. Obviously, ways are not only streets, roads, avenues, paths,... All different kind of amenities have entered the way tags information. Altough, as per the definition of Way objects in the OpenStreetMap Wiki, Way objects are not designed to store such data. See link to OpenStreetMap Wiki below.\n",
    "\n",
    "__How to improve?__\n",
    "\n",
    "Programmatic ways seem to be applicable to clean the data to a certain degree. By combining different pieces of information (the Way object information itself, related/referenced objects) required information to build up Node objects based on that information should be availalbe. Although, it's required to develop a broader conceptional design to fully understand the scope of such a conversion project. Quickly drafting my thoughts: It looks like lot's of information within <tag>'s can be used to build up the Node objects info like \"creation\", \"maininfo\", \"addinfo\" (based on how I classify objects in JSON), from the referenced objects it should be possible to gather information about \"geopos\"."
   ]
  },
  {
   "cell_type": "code",
   "execution_count": null,
   "metadata": {
    "collapsed": true
   },
   "outputs": [],
   "source": [
    "# EXAMPLE OF WAY ELEMENT WHICH \n",
    "<way id=\"381049573\" version=\"1\" timestamp=\"2015-11-18T18:31:24Z\" changeset=\"35414977\" uid=\"1952296\" user=\"shuui\">\n",
    "    <nd ref=\"1008172080\"/> # SEE EXAMPLE BELOW FOR REFERENCE\n",
    "    <nd ref=\"3843184249\"/>\n",
    "    <nd ref=\"3843184250\"/>\n",
    "    <nd ref=\"1008172388\"/>\n",
    "    <nd ref=\"1008171880\"/>\n",
    "    <nd ref=\"3843184251\"/>\n",
    "    <nd ref=\"1008172049\"/>\n",
    "    <nd ref=\"1008172080\"/> # SEE EXAMPLE BELOW FOR REFERENCE\n",
    "    <tag k=\"addr:city\" v=\"Milwaukee\"/>\n",
    "    <tag k=\"addr:housenumber\" v=\"209\"/>\n",
    "    <tag k=\"addr:postcode\" v=\"53204\"/>\n",
    "    <tag k=\"addr:state\" v=\"WI\"/>\n",
    "    <tag k=\"addr:street\" v=\"South Water Street\"/>\n",
    "    <tag k=\"amenity\" v=\"architect_office\"/>\n",
    "    <tag k=\"building\" v=\"commercial\"/>\n",
    "    <tag k=\"building:levels\" v=\"1\"/>\n",
    "    <tag k=\"building:year_built\" v=\"2015\"/>\n",
    "    <tag k=\"name\" v=\"pra Plunkett Raysich Archetects, LLP\"/>\n",
    "    <tag k=\"phone\" v=\"+1.800.208.7078\"/>\n",
    "    <tag k=\"website\" v=\"http://prarch.com\"/>\n",
    "</way>\n",
    "\n",
    "# EXAMPLE OF NODE REFERENCES BY WAY OBJECT\n",
    "<node id=\"1008172080\" lat=\"43.0292647\" lon=\"-87.9083026\" version=\"3\" timestamp=\"2015-11-18T18:31:24Z\" changeset=\"35414977\" uid=\"1952296\" user=\"shuui\"/>"
   ]
  },
  {
   "cell_type": "markdown",
   "metadata": {},
   "source": [
    "__What are the benefits?__\n",
    "\n",
    "Cleaning up the way tags information might support to get to more standardized data and thereby makes it easier to search for data, describe/explain certain data objects, build reports on the data, build navigation/view layers based on the data, and so on.\n",
    "\n",
    "\n",
    "_Definition of a \"Way\" in OpenStreetMap:_ https://wiki.openstreetmap.org/wiki/Way"
   ]
  },
  {
   "cell_type": "markdown",
   "metadata": {},
   "source": [
    "## Conclusion\n",
    "\n",
    "After completing my investigations on the data set I am quite surprised about the amout of data which is available for that rather small piece of land on the map. In total the data sums up to about 950K records. Most of it beeing Nodes (about 850K records), quite a lot Ways (about 100K) and a few Relations. Apart from the number of records, I was also impressed by the amount of data which is tied to single records. Especially places which tend to be interesting for people, like parking lots, restaurants, bars, shops, and so on, are well described in the database. Additional information like opening times, telephone, website, or operator provide even additional information, beyond just the position and name of the place. Having such data available can really make a positive difference to people's - who are using the OpenStreetMap - lifes.\n",
    "\n",
    "\n",
    "Apart from that, I have also seen that OpenStreetMaps is well integrated/related to other initiatives like GNIS and TIGER. A great idea to use and integrate information which is already. Ultimatley, that ends up in more user satisfaction and therefore a braoder usage of the map.\n",
    "\n",
    "\n",
    "What I found irritating is the fact that so many different data points which were not inside Waukesha County have been in the data set. "
   ]
  }
 ],
 "metadata": {
  "kernelspec": {
   "display_name": "Python 2",
   "language": "python",
   "name": "python2"
  },
  "language_info": {
   "codemirror_mode": {
    "name": "ipython",
    "version": 2
   },
   "file_extension": ".py",
   "mimetype": "text/x-python",
   "name": "python",
   "nbconvert_exporter": "python",
   "pygments_lexer": "ipython2",
   "version": "2.7.11"
  }
 },
 "nbformat": 4,
 "nbformat_minor": 0
}
